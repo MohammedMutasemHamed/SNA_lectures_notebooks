{
 "cells": [
  {
   "cell_type": "markdown",
   "metadata": {
    "nbpresent": {
     "id": "d2c7bbf4-8ff2-4d52-bb77-18ee9fef0933"
    }
   },
   "source": [
    "<span>\n",
    "<!-- <img src=\"http://ndlib.readthedocs.io/en/latest/_static/ndlogo2.png\" width=\"260px\" align=\"right\"/> -->\n",
    "</span>\n",
    "<span>\n",
    "<b>Author:</b> <a href=\"http://about.giuliorossetti.net\">Giulio Rossetti</a><br/>\n",
    "<b>Python version:</b>  >=3.6<br/>\n",
    "<b>DyNetX version:</b>  0.0.1<br/>\n",
    "<b>Last update:</b> 15/02/2021\n",
    "</span>"
   ]
  },
  {
   "cell_type": "markdown",
   "metadata": {
    "nbpresent": {
     "id": "9410d1a8-4b66-4e37-a3d9-8b6c8589fb46"
    }
   },
   "source": [
    "<a id='top'></a>\n",
    "# *DyNetX*\n",
    "\n",
    "``DyNetX`` is a python library designed to provide support to dynamic network analysis.\n",
    "\n",
    "In this notebook are introduced some of the main features of the library and an overview of its functionalities.\n",
    "\n",
    "**Note:** this notebook is purposely not 100% comprehensive, it only discusses the basic things you need to get started."
   ]
  },
  {
   "cell_type": "markdown",
   "metadata": {
    "nbpresent": {
     "id": "21707746-7149-4b56-a372-b897903c09ad"
    },
    "toc-hr-collapsed": true
   },
   "source": [
    "## Table of Contents\n",
    "\n",
    "1. [DynetX: a library for dynamic network modeling](#dynetx)\n",
    "    1. [Snapshot Graphs](#snapshots)\n",
    "    2. [Interaction Networks](#interactions)"
   ]
  },
  {
   "cell_type": "markdown",
   "metadata": {
    "nbpresent": {
     "id": "5444515e-f990-42c9-8d47-228e2dd6228d"
    }
   },
   "source": [
    "<a id=\"dynetx\"></a>\n",
    "### 6.A DyNetX: a library for dynamic network modeling ([to top](#top))\n",
    "\n",
    "So far we assumed that a *static* network topology. In real world scenario it is likely to observe nodes (as well as edges) that appear and desapear as time goes by, deeply affecting network structure and connectivity.\n",
    "\n",
    "Indeed, topological transformations have huge implications on how diffusive phenomena unfold. \n",
    "\n",
    "[``DyNetx``](http://dynetx.readthedocs.io/en/latest/) model time-evolving graphs. In the following we briefly introduce some [``DyNetx``](http://dynetx.readthedocs.io/en/latest/) primitives that allows to build and analyse dynamic networks.\n",
    "\n",
    "A dynamic network is a topology having timestamps attached to edges (and/or nodes). As an example:"
   ]
  },
  {
   "cell_type": "markdown",
   "metadata": {},
   "source": [
    "<img src=\"img/rete.png\" width=\"50%\" align=\"center\"/>"
   ]
  },
  {
   "cell_type": "markdown",
   "metadata": {
    "nbpresent": {
     "id": "273f25ce-7799-4ac2-9f53-cd7ff3f6ba0f"
    }
   },
   "source": [
    "[``DyNetx``](http://dynetx.readthedocs.io/en/latest/) is a Python software package that extends [``networkx``](https://networkx.github.io) with dynamic network models and algorithms.\n",
    "\n",
    "We developed [``DyNetx``](http://dynetx.readthedocs.io/en/latest/) as a support library for ``NDlib``. It provides a generic implementation of dynamic network topology that can be used to model directed/undirected\n",
    "- [Snapshot Graphs](#snapshots)\n",
    "- [Interaction Networks](#interactions)\n",
    "\n",
    "In [``DyNetx``](http://dynetx.readthedocs.io/en/latest/) a generic dynamic graph can be built using:"
   ]
  },
  {
   "cell_type": "code",
   "execution_count": 1,
   "metadata": {
    "nbpresent": {
     "id": "b1623c00-7e81-47a7-aa4b-adb1d3d8b619"
    }
   },
   "outputs": [],
   "source": [
    "import dynetx as dn\n",
    "\n",
    "g = dn.DynGraph() # empty dynamic graph\n",
    "\n",
    "g.add_interaction(u=1, v=2, t=0, e=2) # adding the edge (1,2) at t=0 that vanishes at time e=2\n",
    "g.add_interactions_from([(1, 4), (2, 5), (3, 1)], t=1) # adding some edges at time t=1\n",
    "g.add_interactions_from([(2, 6), (3, 2)], t=2) # adding some edges at time t=2\n",
    "g.add_interactions_from([(1, 5)], t=3) # adding some edges at time t=3"
   ]
  },
  {
   "cell_type": "markdown",
   "metadata": {
    "nbpresent": {
     "id": "246a6874-119c-4ca3-9f0a-3d9192b81f85"
    }
   },
   "source": [
    "<a id=\"snapshots\"></a>\n",
    "#### 6.A.a Snapshot Graphs ([to top](#top))\n",
    "\n",
    "Often, network history is partitioned into a series of snap- shots, each one of them corresponding either to the state of the network at a time $t$ or to the aggregation of observed interactions during a period. Formally,\n",
    "\n",
    "> A ``Snapshot Graph`` $G_t$ is defined by a temporally ordered set $⟨G_1, G_2\\dots G_t⟩$ of static graphs where each snapshot $G_i = (V_i, E_i)$ is univocally identified by the sets of nodes $V_i$ and edges $E_i$.\n",
    "\n",
    "Network snapshots can be effectively used, for instance, to model a phenomenon that generates network perturbations (almost) at regular intervals. In this scenario, context-dependent temporal windows are used to partition the network history into consecutive snapshots: time-bounded observations describing a precise, static, discretization of the network life.\n",
    "\n",
    "Considering our dynamic network example we can identify the following snapshot graphs:\n",
    "\n",
    "<img src=\"img/ex1.png\" width=\"35%\" align=\"left\"/><img src=\"img/ex2.png\" width=\"25%\" align=\"left\"/><img src=\"img/ex3.png\" width=\"35%\" align=\"left\"/>\n",
    "\n",
    "[``DyNetx``](http://dynetx.readthedocs.io/en/latest/) allows to (among the other things):\n",
    "- List the snapshots of the loaded graph"
   ]
  },
  {
   "cell_type": "code",
   "execution_count": 2,
   "metadata": {
    "nbpresent": {
     "id": "32c90ef7-d369-41cf-874e-ed1ee42e0eb6"
    }
   },
   "outputs": [
    {
     "data": {
      "text/plain": [
       "[0, 1, 2, 3]"
      ]
     },
     "execution_count": 2,
     "metadata": {},
     "output_type": "execute_result"
    }
   ],
   "source": [
    "g.temporal_snapshots_ids()"
   ]
  },
  {
   "cell_type": "markdown",
   "metadata": {
    "nbpresent": {
     "id": "d1c5b478-a181-41f9-a187-c50a4ab4a6c2"
    }
   },
   "source": [
    "- Access a specific snapshot"
   ]
  },
  {
   "cell_type": "code",
   "execution_count": 3,
   "metadata": {
    "nbpresent": {
     "id": "4a3c3856-ce1a-410b-bf8d-9ed46f4e0024"
    }
   },
   "outputs": [
    {
     "data": {
      "text/plain": [
       "EdgeView([(1, 2), (1, 4), (1, 3), (2, 5)])"
      ]
     },
     "execution_count": 3,
     "metadata": {},
     "output_type": "execute_result"
    }
   ],
   "source": [
    "g1 = g.time_slice(1)\n",
    "g1.edges()"
   ]
  },
  {
   "cell_type": "markdown",
   "metadata": {
    "nbpresent": {
     "id": "860905f3-ca6d-449a-b48b-f8b3b956f262"
    }
   },
   "source": [
    "Moreover, snapshot graphs can also be read from/wite to file. For additional details refer to the official [documentation](http://dynetx.readthedocs.io/en/latest/index.html)."
   ]
  },
  {
   "cell_type": "markdown",
   "metadata": {
    "nbpresent": {
     "id": "f27a5517-1f54-483f-926e-ec1c78e301b8"
    }
   },
   "source": [
    "<a id=\"interactions\"></a>\n",
    "#### 6.A.b Interaction networks ([to top](#top))\n",
    "\n",
    "An ``Interaction network`` models a dynamic structure in which both nodes and edges may appear and disappear as time goes by. Usually, ``Intercation network`` are used in absence of a clear aggregation time scale, or when make sense to analyse a dynamic networok as a continuos stream of edges. Formally,\n",
    "\n",
    "> An ``interaction network`` is a graph $G = (V, E, T)$ where: $V$ is a set of triplets of the form $(v, t_s, t_e)$, with $v$ a vertex of the graph and $t_s$, $t_e \\in T$ are respectively the birth and death timestamps of the corresponding vertex (with $t_s \\leq t_e$); $E$ is a set of quadruplets $(u, v, t_s, t_e)$, with $u, v \\in V$ are vertices of the graph and $t_s,t_e \\in T$ are respectively the birth and death timestamps of the corresponding edge (with $t_s \\leq t_e$).\n",
    "\n",
    "Considering our dynamic network example we can identify the following interaction stream:\n",
    "\n",
    "<img src=\"img/ex4.png\"  />\n",
    "\n",
    "[``DyNetx``](http://dynetx.readthedocs.io/en/latest/) allows to to obtain the edge stream of a given dynamic graph."
   ]
  },
  {
   "cell_type": "code",
   "execution_count": 4,
   "metadata": {
    "nbpresent": {
     "id": "6723d9a3-cf64-4878-a76e-623ee03854ab"
    }
   },
   "outputs": [
    {
     "name": "stdout",
     "output_type": "stream",
     "text": [
      "(1, 2, '+', 0)\n",
      "(1, 4, '+', 1)\n",
      "(2, 5, '+', 1)\n",
      "(3, 1, '+', 1)\n",
      "(1, 2, '-', 2)\n",
      "(2, 6, '+', 2)\n",
      "(3, 2, '+', 2)\n",
      "(1, 5, '+', 3)\n"
     ]
    }
   ],
   "source": [
    "for i in g.stream_interactions():\n",
    "    print(i)"
   ]
  },
  {
   "cell_type": "markdown",
   "metadata": {
    "nbpresent": {
     "id": "37371b56-1291-4287-bfb8-fcf022dcce42"
    }
   },
   "source": [
    "In the former representation: \n",
    "- the first two values identify the nodes involved in an edge\n",
    "- the third value identify the edge operation ('+' apparence, '-' vanishing)\n",
    "- the last value identify the timestamp\n",
    "\n",
    "Also ``interaction networks`` can be read from/wite to file. For additional details refer to the official [documentation](http://dynetx.readthedocs.io/en/latest/index.html)."
   ]
  }
 ],
 "metadata": {
  "kernelspec": {
   "display_name": "Python 3",
   "language": "python",
   "name": "python3"
  },
  "language_info": {
   "codemirror_mode": {
    "name": "ipython",
    "version": 3
   },
   "file_extension": ".py",
   "mimetype": "text/x-python",
   "name": "python",
   "nbconvert_exporter": "python",
   "pygments_lexer": "ipython3",
   "version": "3.7.4"
  },
  "toc-autonumbering": false,
  "toc-showcode": true,
  "toc-showmarkdowntxt": false,
  "toc-showtags": false
 },
 "nbformat": 4,
 "nbformat_minor": 4
}
