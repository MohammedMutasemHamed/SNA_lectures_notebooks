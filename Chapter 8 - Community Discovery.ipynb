{
 "cells": [
  {
   "cell_type": "markdown",
   "metadata": {},
   "source": [
    "<span>\n",
    "<img src=\"img/cdlib_new.png\" width=\"120px\" align=\"right\"/>\n",
    "</span>\n",
    "<span>\n",
    "<b>Author:</b> <a href=\"http://about.giuliorossetti.net\">Giulio Rossetti</a><br/>\n",
    "<b>Python version:</b>  3.7<br/>\n",
    "<b>CDlib version:</b>  0.1.10<br/>\n",
    "<b>Last update:</b> 16/02/2021\n",
    "</span>"
   ]
  },
  {
   "cell_type": "code",
   "execution_count": 25,
   "metadata": {},
   "outputs": [],
   "source": [
    "import warnings\n",
    "warnings.filterwarnings('ignore')"
   ]
  },
  {
   "cell_type": "markdown",
   "metadata": {},
   "source": [
    "<a id='top'></a>\n",
    "# *Chapter 8: Community Discovery*\n",
    "\n",
    "In this notebook are introduced the main steps for the extraction and topological analysis of communities.\n",
    "\n",
    "**Note:** this notebook is purposely not 100% comprehensive, it only discusses the basic things you need to get started. For all the details, algorithm/methods/evaluation facilities available in ``CDlib``, please refer to the official [documentation](https://cdlib.readthedocs.io) and the dedicated notebook appendix."
   ]
  },
  {
   "cell_type": "markdown",
   "metadata": {},
   "source": [
    "## Table of Contents\n",
    "\n",
    "1. [Community Discovery Workflow](#workflow)\n",
    "    1. [Graph Creation](#graph)\n",
    "    2. [Community Discovery algorithm(s) selection and configuration ](#model)\n",
    "    3. [Clustering Evaluation (Fitness functions)](#fitness)\n",
    "    4. [Clustering Evaluation (Comparison)](#comparison)\n",
    "    5. [Community/Statistics Visualization](#visualization)"
   ]
  },
  {
   "cell_type": "code",
   "execution_count": 26,
   "metadata": {},
   "outputs": [],
   "source": [
    "import cdlib"
   ]
  },
  {
   "cell_type": "markdown",
   "metadata": {},
   "source": [
    "<a id='workflow'></a>\n",
    "## Community Discovery Workflow ([to top](#top))\n",
    "\n",
    "The standard workflow can be summarized as:\n",
    "- Network Creation\n",
    "- Community Discovery algorithm(s) selection and configuration\n",
    "- Clustering(s) evaluation (Fitness functions)\n",
    "- Clustering(s) evaluation (Comparisons)\n",
    "- Community/Statistics Visualization\n",
    "\n",
    "In this section we will observe how to templating such workflow applying two classic network clustering algorithms: Label Propagation and Leiden.\n",
    "All analysis will be performed using ``CDlib``."
   ]
  },
  {
   "cell_type": "markdown",
   "metadata": {},
   "source": [
    "<a id=\"graph\"></a>\n",
    "### Graph object creation ([to top](#top))"
   ]
  },
  {
   "cell_type": "markdown",
   "metadata": {},
   "source": [
    "As a first step we need to define the network topology that will be used as playground to study diffusive phenomena.\n",
    "\n",
    "``CDlib`` natively supports both [``networkx``](https://networkx.github.io) and [``igraph``](https://igraph.org/python/) data structures.\n",
    "\n",
    "In our examples, for the sake of simplicity, we will use ``networkx`` undirected graphs. "
   ]
  },
  {
   "cell_type": "code",
   "execution_count": 27,
   "metadata": {},
   "outputs": [],
   "source": [
    "import networkx as nx\n",
    "\n",
    "def read_net(filename):\n",
    "    g = nx.Graph()\n",
    "    with open(filename) as f:\n",
    "        f.readline()\n",
    "        for l in f:\n",
    "            l = l.split(\",\")\n",
    "            g.add_edge(l[0], l[1])\n",
    "    return g\n",
    "\n",
    "# Game of Thrones Season 7\n",
    "g = read_net('data/asioaf/got-s7-edges.csv')"
   ]
  },
  {
   "cell_type": "markdown",
   "metadata": {},
   "source": [
    "<a id=\"model\"></a>\n",
    "### Community Discovery algorithm(s) selection and configuration ([to top](#top))\n",
    "\n",
    "After having defined the graph, we can select the algorithm(s) to partition it."
   ]
  },
  {
   "cell_type": "code",
   "execution_count": 28,
   "metadata": {},
   "outputs": [],
   "source": [
    "from cdlib import algorithms"
   ]
  },
  {
   "cell_type": "code",
   "execution_count": 29,
   "metadata": {},
   "outputs": [],
   "source": [
    "lp_coms = algorithms.label_propagation(g)"
   ]
  },
  {
   "cell_type": "code",
   "execution_count": 30,
   "metadata": {},
   "outputs": [],
   "source": [
    "leiden_coms = algorithms.leiden(g)"
   ]
  },
  {
   "cell_type": "markdown",
   "metadata": {},
   "source": [
    "All Community Discovery algorithms generate as result an object that implements a concrete instance of the ``Clustering`` datatype.\n",
    "\n",
    "In particular, both Louvain and Label Propagation returns a ``NodeClustering`` object having the following propterties:"
   ]
  },
  {
   "cell_type": "code",
   "execution_count": 31,
   "metadata": {},
   "outputs": [
    {
     "data": {
      "text/plain": [
       "'Leiden'"
      ]
     },
     "execution_count": 31,
     "metadata": {},
     "output_type": "execute_result"
    }
   ],
   "source": [
    "leiden_coms.method_name # Clustering algorithm name"
   ]
  },
  {
   "cell_type": "code",
   "execution_count": 32,
   "metadata": {},
   "outputs": [
    {
     "data": {
      "text/plain": [
       "{'initial_membership': None, 'weights': None}"
      ]
     },
     "execution_count": 32,
     "metadata": {},
     "output_type": "execute_result"
    }
   ],
   "source": [
    "leiden_coms.method_parameters # Clustering parameters"
   ]
  },
  {
   "cell_type": "code",
   "execution_count": 33,
   "metadata": {},
   "outputs": [
    {
     "data": {
      "text/plain": [
       "[['ARYA',\n",
       "  'SANSA',\n",
       "  'LITTLEFINGER',\n",
       "  'MARWYN',\n",
       "  'BRAN',\n",
       "  'HOT_PIE',\n",
       "  'BRIENNE',\n",
       "  'PODRICK',\n",
       "  'YOHN_ROYCE',\n",
       "  'MEERA',\n",
       "  'NED',\n",
       "  'MAESTER_WOLKAN',\n",
       "  'LYANNA_MORMONT',\n",
       "  'ROBETT',\n",
       "  'LYANNA',\n",
       "  'JOFFREY',\n",
       "  'RHAEGAR',\n",
       "  'ROBERT',\n",
       "  'CATELYN',\n",
       "  'ROBB',\n",
       "  'EDDISON_TOLLETT',\n",
       "  'LYSA',\n",
       "  'RAMSAY',\n",
       "  'WALDER',\n",
       "  'QHONO',\n",
       "  'HOWLAND',\n",
       "  'JON_ARRYN',\n",
       "  'SHIREEN'],\n",
       " ['CERSEI',\n",
       "  'JAIME',\n",
       "  'QYBURN',\n",
       "  'EURON',\n",
       "  'TYCHO',\n",
       "  'THEON',\n",
       "  'MOUNTAIN',\n",
       "  'ELLARIA',\n",
       "  'YARA',\n",
       "  'HARRAG',\n",
       "  'TYENE',\n",
       "  'TYWIN',\n",
       "  'NYMERIA',\n",
       "  'OBARA',\n",
       "  'MYRCELLA',\n",
       "  'OBERYN',\n",
       "  'BALERION',\n",
       "  'TOMMEN',\n",
       "  'JOANNA'],\n",
       " ['JON',\n",
       "  'DAVOS',\n",
       "  'BERIC',\n",
       "  'HOUND',\n",
       "  'JORAH',\n",
       "  'THOROS',\n",
       "  'TORMUND',\n",
       "  'GENDRY',\n",
       "  'NIGHT_KING',\n",
       "  'BENJEN',\n",
       "  'ALYS',\n",
       "  'NED_UMBER',\n",
       "  'JEOR',\n",
       "  'DROGO',\n",
       "  'WHITE_WALKER'],\n",
       " ['DAENERYS',\n",
       "  'TYRION',\n",
       "  'BRONN',\n",
       "  'VARYS',\n",
       "  'OLENNA',\n",
       "  'MISSANDEI',\n",
       "  'RANDYLL',\n",
       "  'GREY_WORM',\n",
       "  'DICKON',\n",
       "  'MELISANDRE',\n",
       "  'AERYS',\n",
       "  'AEGON',\n",
       "  'VISERYS',\n",
       "  'MARGAERY'],\n",
       " ['SAM', 'GILLY', 'LITTLE_SAM', 'HIGH_SEPTON', 'STANNIS']]"
      ]
     },
     "execution_count": 33,
     "metadata": {},
     "output_type": "execute_result"
    }
   ],
   "source": [
    "leiden_coms.communities # Identified Clustering"
   ]
  },
  {
   "cell_type": "code",
   "execution_count": 34,
   "metadata": {},
   "outputs": [
    {
     "data": {
      "text/plain": [
       "False"
      ]
     },
     "execution_count": 34,
     "metadata": {},
     "output_type": "execute_result"
    }
   ],
   "source": [
    "leiden_coms.overlap # Wehter the clustering is overlapping or not"
   ]
  },
  {
   "cell_type": "code",
   "execution_count": 35,
   "metadata": {},
   "outputs": [
    {
     "data": {
      "text/plain": [
       "1.0"
      ]
     },
     "execution_count": 35,
     "metadata": {},
     "output_type": "execute_result"
    }
   ],
   "source": [
    "leiden_coms.node_coverage # Percentage of nodes covered by the clustering"
   ]
  },
  {
   "cell_type": "markdown",
   "metadata": {},
   "source": [
    "Moreover, ``Clustering`` object allow also for the generation of a JSON representation of the results"
   ]
  },
  {
   "cell_type": "code",
   "execution_count": 36,
   "metadata": {},
   "outputs": [
    {
     "data": {
      "text/plain": [
       "'{\"communities\": [[\"ARYA\", \"SANSA\", \"LITTLEFINGER\", \"MARWYN\", \"BRAN\", \"HOT_PIE\", \"BRIENNE\", \"PODRICK\", \"YOHN_ROYCE\", \"MEERA\", \"NED\", \"MAESTER_WOLKAN\", \"LYANNA_MORMONT\", \"ROBETT\", \"LYANNA\", \"JOFFREY\", \"RHAEGAR\", \"ROBERT\", \"CATELYN\", \"ROBB\", \"EDDISON_TOLLETT\", \"LYSA\", \"RAMSAY\", \"WALDER\", \"QHONO\", \"HOWLAND\", \"JON_ARRYN\", \"SHIREEN\"], [\"CERSEI\", \"JAIME\", \"QYBURN\", \"EURON\", \"TYCHO\", \"THEON\", \"MOUNTAIN\", \"ELLARIA\", \"YARA\", \"HARRAG\", \"TYENE\", \"TYWIN\", \"NYMERIA\", \"OBARA\", \"MYRCELLA\", \"OBERYN\", \"BALERION\", \"TOMMEN\", \"JOANNA\"], [\"JON\", \"DAVOS\", \"BERIC\", \"HOUND\", \"JORAH\", \"THOROS\", \"TORMUND\", \"GENDRY\", \"NIGHT_KING\", \"BENJEN\", \"ALYS\", \"NED_UMBER\", \"JEOR\", \"DROGO\", \"WHITE_WALKER\"], [\"DAENERYS\", \"TYRION\", \"BRONN\", \"VARYS\", \"OLENNA\", \"MISSANDEI\", \"RANDYLL\", \"GREY_WORM\", \"DICKON\", \"MELISANDRE\", \"AERYS\", \"AEGON\", \"VISERYS\", \"MARGAERY\"], [\"SAM\", \"GILLY\", \"LITTLE_SAM\", \"HIGH_SEPTON\", \"STANNIS\"]], \"algorithm\": \"Leiden\", \"params\": {\"initial_membership\": null, \"weights\": null}, \"overlap\": false, \"coverage\": 1.0}'"
      ]
     },
     "execution_count": 36,
     "metadata": {},
     "output_type": "execute_result"
    }
   ],
   "source": [
    "leiden_coms.to_json()"
   ]
  },
  {
   "cell_type": "markdown",
   "metadata": {},
   "source": [
    "<a id=\"fitness\"></a>\n",
    "### Clustering Evaluation (Fitness functions) ([to top](#top))\n",
    "\n",
    "After having obtained a network clustering we can compute several indexes upon it. \n",
    "\n",
    "For a same index it is possible to obtain a synthetic representation of its min/max/mean/std values"
   ]
  },
  {
   "cell_type": "code",
   "execution_count": 37,
   "metadata": {},
   "outputs": [
    {
     "data": {
      "text/plain": [
       "FitnessResult(min=2.0, max=6.315789473684211, score=5.191729323308271, std=1.6062093318309083)"
      ]
     },
     "execution_count": 37,
     "metadata": {},
     "output_type": "execute_result"
    }
   ],
   "source": [
    "leiden_coms.average_internal_degree()"
   ]
  },
  {
   "cell_type": "markdown",
   "metadata": {},
   "source": [
    "as well as its communitiy-wise value"
   ]
  },
  {
   "cell_type": "code",
   "execution_count": 38,
   "metadata": {},
   "outputs": [
    {
     "data": {
      "text/plain": [
       "[5.785714285714286, 6.315789473684211, 6.0, 5.857142857142857, 2.0]"
      ]
     },
     "execution_count": 38,
     "metadata": {},
     "output_type": "execute_result"
    }
   ],
   "source": [
    "leiden_coms.average_internal_degree(summary=False)"
   ]
  },
  {
   "cell_type": "markdown",
   "metadata": {},
   "source": [
    "Fitness scores can also be instantiated at library level"
   ]
  },
  {
   "cell_type": "code",
   "execution_count": 39,
   "metadata": {},
   "outputs": [
    {
     "data": {
      "text/plain": [
       "FitnessResult(min=2.0, max=6.315789473684211, score=5.191729323308271, std=1.6062093318309083)"
      ]
     },
     "execution_count": 39,
     "metadata": {},
     "output_type": "execute_result"
    }
   ],
   "source": [
    "from cdlib import evaluation\n",
    "\n",
    "evaluation.average_internal_degree(g, leiden_coms)"
   ]
  },
  {
   "cell_type": "markdown",
   "metadata": {},
   "source": [
    "For the complete list of implemented fitness functions, refer to the online [documentation](https://cdlib.readthedocs.io/en/latest/reference/evaluation.html)."
   ]
  },
  {
   "cell_type": "markdown",
   "metadata": {},
   "source": [
    "<a id=\"comparison\"></a>\n",
    "### Clustering Evaluation (Comparison) ([to top](#top))\n",
    "\n",
    "When multiple clustering have been computed on a same network it is useful to measure their resemblance.\n",
    "\n",
    "``CDlib`` allows to do so by exposing several clustering resemblance scores, each one of them tailored to support specific kind of network clusterings (crisp/partition, complete/partial node coverage).\n",
    "\n",
    "As for the fitness functions, resemblance scores can be instantiated at the community level as well as at the library level."
   ]
  },
  {
   "cell_type": "code",
   "execution_count": 40,
   "metadata": {},
   "outputs": [
    {
     "data": {
      "text/plain": [
       "MatchingResult(score=0.11638231956563326, std=None)"
      ]
     },
     "execution_count": 40,
     "metadata": {},
     "output_type": "execute_result"
    }
   ],
   "source": [
    "leiden_coms.normalized_mutual_information(lp_coms)"
   ]
  },
  {
   "cell_type": "code",
   "execution_count": 41,
   "metadata": {},
   "outputs": [
    {
     "data": {
      "text/plain": [
       "MatchingResult(score=0.11638231956563326, std=None)"
      ]
     },
     "execution_count": 41,
     "metadata": {},
     "output_type": "execute_result"
    }
   ],
   "source": [
    "evaluation.normalized_mutual_information(leiden_coms, lp_coms)"
   ]
  },
  {
   "cell_type": "markdown",
   "metadata": {},
   "source": [
    "<a id=\"visualization\"></a>\n",
    "### Community/Statistics Visualization ([to top](#top))\n",
    "\n",
    "``CDlib`` allows to generate two families of predefined plots:\n",
    "- network/community visualizations\n",
    "- community fitness/comparison visualizations"
   ]
  },
  {
   "cell_type": "markdown",
   "metadata": {},
   "source": [
    "#### Graph visualization\n",
    "\n",
    "One way to visualize the communities identified on a graph is by coloring graph nodes accordingly"
   ]
  },
  {
   "cell_type": "code",
   "execution_count": 42,
   "metadata": {},
   "outputs": [
    {
     "data": {
      "text/plain": [
       "<matplotlib.collections.PathCollection at 0x7fbb333e5b90>"
      ]
     },
     "execution_count": 42,
     "metadata": {},
     "output_type": "execute_result"
    },
    {
     "data": {
      "image/png": "[encoded data removed]",
      "text/plain": [
       "<Figure size 360x360 with 1 Axes>"
      ]
     },
     "metadata": {},
     "output_type": "display_data"
    }
   ],
   "source": [
    "from cdlib import viz\n",
    "\n",
    "pos = nx.spring_layout(g)\n",
    "viz.plot_network_clusters(g, leiden_coms, pos, figsize=(5, 5))"
   ]
  },
  {
   "cell_type": "code",
   "execution_count": 43,
   "metadata": {},
   "outputs": [
    {
     "data": {
      "text/plain": [
       "<matplotlib.collections.PathCollection at 0x7fbb33317f10>"
      ]
     },
     "execution_count": 43,
     "metadata": {},
     "output_type": "execute_result"
    },
    {
     "data": {
      "image/png": "[encoded data removed]",
      "text/plain": [
       "<Figure size 360x360 with 1 Axes>"
      ]
     },
     "metadata": {},
     "output_type": "display_data"
    }
   ],
   "source": [
    "viz.plot_network_clusters(g, lp_coms, pos, figsize=(5, 5))"
   ]
  },
  {
   "cell_type": "markdown",
   "metadata": {},
   "source": [
    "Such strategy is feasible when the network is small enogh. In case of medium size graphs an alternative is collapsing all community nodes into a single met-node and visualize the resulting community graph:"
   ]
  },
  {
   "cell_type": "code",
   "execution_count": 44,
   "metadata": {},
   "outputs": [
    {
     "data": {
      "text/plain": [
       "<matplotlib.collections.PathCollection at 0x7fbb34b46850>"
      ]
     },
     "execution_count": 44,
     "metadata": {},
     "output_type": "execute_result"
    },
    {
     "data": {
      "image/png": "[encoded data removed]",
      "text/plain": [
       "<Figure size 216x216 with 1 Axes>"
      ]
     },
     "metadata": {},
     "output_type": "display_data"
    }
   ],
   "source": [
    "viz.plot_community_graph(g, leiden_coms, figsize=(3, 3))"
   ]
  },
  {
   "cell_type": "code",
   "execution_count": 45,
   "metadata": {},
   "outputs": [
    {
     "data": {
      "text/plain": [
       "<matplotlib.collections.PathCollection at 0x7fbb334e5b50>"
      ]
     },
     "execution_count": 45,
     "metadata": {},
     "output_type": "execute_result"
    },
    {
     "data": {
      "image/png": "[encoded data removed]",
      "text/plain": [
       "<Figure size 216x216 with 1 Axes>"
      ]
     },
     "metadata": {},
     "output_type": "display_data"
    }
   ],
   "source": [
    "viz.plot_community_graph(g, lp_coms, figsize=(3, 3))"
   ]
  },
  {
   "cell_type": "markdown",
   "metadata": {},
   "source": [
    "#### Community fitness/comparison visualization\n",
    "\n",
    "Given one (or more) clustering it could be useful to visualize how a given fitness function distributes over the communities.\n",
    "\n",
    "A nice way to do so is by using violin plots."
   ]
  },
  {
   "cell_type": "code",
   "execution_count": 46,
   "metadata": {},
   "outputs": [
    {
     "data": {
      "text/plain": [
       "<AxesSubplot:xlabel='Algorithm', ylabel='internal_edge_density'>"
      ]
     },
     "execution_count": 46,
     "metadata": {},
     "output_type": "execute_result"
    },
    {
     "data": {
      "image/png": "[encoded data removed]",
      "text/plain": [
       "<Figure size 432x288 with 1 Axes>"
      ]
     },
     "metadata": {
      "needs_background": "light"
     },
     "output_type": "display_data"
    }
   ],
   "source": [
    "viz.plot_com_stat([leiden_coms, lp_coms], evaluation.internal_edge_density)"
   ]
  },
  {
   "cell_type": "markdown",
   "metadata": {},
   "source": [
    "Another simple visualization type that allows getting a few insights on community characteristics is the scatter plot.\n",
    "\n",
    "We can easily pair-wise compare fitness functions for one or more clustering as follows:"
   ]
  },
  {
   "cell_type": "code",
   "execution_count": 47,
   "metadata": {},
   "outputs": [
    {
     "data": {
      "text/plain": [
       "<seaborn.axisgrid.FacetGrid at 0x7fbb332158d0>"
      ]
     },
     "execution_count": 47,
     "metadata": {},
     "output_type": "execute_result"
    },
    {
     "data": {
      "image/png": "[encoded data removed]",
      "text/plain": [
       "<Figure size 360x360 with 1 Axes>"
      ]
     },
     "metadata": {
      "needs_background": "light"
     },
     "output_type": "display_data"
    }
   ],
   "source": [
    "viz.plot_com_properties_relation([leiden_coms, lp_coms], evaluation.size, evaluation.internal_edge_density)"
   ]
  },
  {
   "cell_type": "markdown",
   "metadata": {},
   "source": [
    "Let assume we want to compare different clusterings over a set of network ground truth partitions.\n",
    "\n",
    "In order to obtain a more interesting example, we can generate a few synthetic graphs with planted ground truth clusterings and perform CD upon them. <br/> We can easily visually compare their resuls as follows:"
   ]
  },
  {
   "cell_type": "code",
   "execution_count": 23,
   "metadata": {},
   "outputs": [
    {
     "data": {
      "text/plain": [
       "<AxesSubplot:xlabel='graph', ylabel='score'>"
      ]
     },
     "execution_count": 23,
     "metadata": {},
     "output_type": "execute_result"
    },
    {
     "data": {
      "image/png": "[encoded data removed]",
      "text/plain": [
       "<Figure size 432x288 with 1 Axes>"
      ]
     },
     "metadata": {
      "needs_background": "light"
     },
     "output_type": "display_data"
    }
   ],
   "source": [
    "from cdlib import NodeClustering\n",
    "from networkx.generators.community import LFR_benchmark_graph\n",
    "\n",
    "g1 = LFR_benchmark_graph(1000, 3, 1.5, 0.5, min_community=20, average_degree=5)\n",
    "g2 = LFR_benchmark_graph(1000, 3, 1.5, 0.6, min_community=20, average_degree=5)\n",
    "g3 = LFR_benchmark_graph(1000, 3, 1.5, 0.7, min_community=20, average_degree=5)\n",
    "\n",
    "names = [\"g1\", \"g2\", \"g3\"]\n",
    "graphs = [g1, g2, g3]\n",
    "references = []\n",
    "\n",
    "# building the NodeClustering ground truth for the graphs\n",
    "for g in graphs:\n",
    "    ground_truth = NodeClustering(communities={frozenset(g.nodes[v]['community']) for v in g}, graph=g, method_name=\"reference\")\n",
    "    references.append(ground_truth)\n",
    "    \n",
    "algos = [algorithms.leiden, algorithms.label_propagation]\n",
    "\n",
    "# Computing the visualization (2 execution per method, NMI as scoring for ground truth resemblance)\n",
    "viz.plot_scoring(graphs, references, names, algos, scoring=evaluation.adjusted_mutual_information, nbRuns=2)"
   ]
  },
  {
   "cell_type": "markdown",
   "metadata": {},
   "source": [
    "Finally, we can also compare different clustering obtained on the same graph by alternative algorithms among them. <br/>\n",
    "Let's get back to our initial Karate Club graph and compute a few more clusterings upon it:"
   ]
  },
  {
   "cell_type": "code",
   "execution_count": 24,
   "metadata": {},
   "outputs": [
    {
     "data": {
      "text/plain": [
       "<seaborn.matrix.ClusterGrid at 0x7fbb34684c10>"
      ]
     },
     "execution_count": 24,
     "metadata": {},
     "output_type": "execute_result"
    },
    {
     "data": {
      "image/png": "[encoded data removed]",
      "text/plain": [
       "<Figure size 720x720 with 4 Axes>"
      ]
     },
     "metadata": {
      "needs_background": "light"
     },
     "output_type": "display_data"
    }
   ],
   "source": [
    "g = nx.karate_club_graph()\n",
    "\n",
    "lp_coms = algorithms.label_propagation(g)\n",
    "leiden_coms = algorithms.leiden(g)\n",
    "wp_coms = algorithms.walktrap(g)\n",
    "infomap_coms = algorithms.infomap(g)\n",
    "\n",
    "viz.plot_sim_matrix([leiden_coms, lp_coms, wp_coms, infomap_coms],evaluation.adjusted_mutual_information)"
   ]
  }
 ],
 "metadata": {
  "kernelspec": {
   "display_name": "Python 3",
   "language": "python",
   "name": "python3"
  },
  "language_info": {
   "codemirror_mode": {
    "name": "ipython",
    "version": 3
   },
   "file_extension": ".py",
   "mimetype": "text/x-python",
   "name": "python",
   "nbconvert_exporter": "python",
   "pygments_lexer": "ipython3",
   "version": "3.7.4"
  }
 },
 "nbformat": 4,
 "nbformat_minor": 4
}
