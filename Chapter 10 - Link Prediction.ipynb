{
 "cells": [
  {
   "cell_type": "markdown",
   "metadata": {},
   "source": [
    "<span>\n",
    "<b>Author:</b> <a href=\"http://about.giuliorossetti.net\">Giulio Rossetti</a><br/>\n",
    "<b>Python version:</b>  >=3.6<br/>\n",
    "<b>LinkPred version:</b>  0.4.1<br/>\n",
    "<b>Last update:</b> 16/02/2021\n",
    "</span>"
   ]
  },
  {
   "cell_type": "markdown",
   "metadata": {},
   "source": [
    "<a id='top'></a>\n",
    "# *Chapter 10: Link Prediction*\n",
    "\n",
    "``linkpred`` is a python library designed to provide support to *unsupervised* link prediction analysis.\n",
    "\n",
    "In this notebook are introduced some of the main features of the library and an overview of its functionalities.\n",
    "\n",
    "**Note:** \n",
    "- this notebook is purposely not 100% comprehensive, it only discusses the basic things you need to get started.\n",
    "- LinkPred is developed and maintained by Raf Guns (University of Antwerp)"
   ]
  },
  {
   "cell_type": "markdown",
   "metadata": {},
   "source": [
    "## Table of Contents\n",
    "\n",
    "1. [Installing LinkPred](#install)\n",
    "2. [Prediction Workflow](#workflow)\n",
    "    1. [Loading the network from file](#graph)\n",
    "    2. [Computing the desired unsupervied predictors](#pred)\n",
    "    3. [Evaluation and comparison of different predictors](#eval)\n",
    "3. [Conclusions](#conclusion)"
   ]
  },
  {
   "cell_type": "markdown",
   "metadata": {},
   "source": [
    "<a id='install'></a>\n",
    "## 1. Installing LinkPred ([to top](#top))\n",
    "\n",
    "As a first step, we need to make sure that ``linkpred`` is installed and working.\n",
    "\n",
    "The library can be installed using ``pip``:"
   ]
  },
  {
   "cell_type": "markdown",
   "metadata": {},
   "source": [
    "    pip install linkpred"
   ]
  },
  {
   "cell_type": "markdown",
   "metadata": {},
   "source": [
    "In order to check if ``linkpred`` has been correctly installed just try to import it"
   ]
  },
  {
   "cell_type": "code",
   "execution_count": 4,
   "metadata": {},
   "outputs": [],
   "source": [
    "import linkpred"
   ]
  },
  {
   "cell_type": "markdown",
   "metadata": {},
   "source": [
    "<a id='workflow'></a>\n",
    "## 2. Prediction Workflow\n",
    "\n",
    "``linkpred`` offers complete support to all stages of the Link Prediction workflow:\n",
    "\n",
    "1. Network Loading\n",
    "2. Predictor selection and application\n",
    "3. Results evaluation \n",
    "\n",
    "<a id='graph'></a>\n",
    "### 2.A Loading the network from file\n",
    "\n",
    "To get started, ``linkpred`` requires to read the graph from file: a check on the format is made on the file extension. </br>\n",
    "In our example we'll use standard edgelist graph representation (required extension *.edgelist*)"
   ]
  },
  {
   "cell_type": "code",
   "execution_count": 5,
   "metadata": {},
   "outputs": [],
   "source": [
    "%matplotlib inline\n",
    "import matplotlib.pyplot as plt\n",
    "import networkx as nx"
   ]
  },
  {
   "cell_type": "code",
   "execution_count": 6,
   "metadata": {},
   "outputs": [],
   "source": [
    "g = linkpred.read_network('data/gs6.edgelist')"
   ]
  },
  {
   "cell_type": "markdown",
   "metadata": {},
   "source": [
    "<a id='pred'></a>\n",
    "### 2.B Computing the desired unsupervied predictors\n",
    "\n",
    "``linkpred`` offers a wide number of unsupervied predictors organized into four families:\n",
    "- **Neighborhood:**\n",
    "    - *AdamicAdar*, AssociationStrength, *CommonNeighbours*, Cosine, DegreeProduct, *Jaccard*, MaxOverlap, MinOverlap, NMeasure, Pearson,ResourceAllocation\n",
    "- **Paths:**\n",
    "    - GraphDistance, *Katz*\n",
    "- **Ranking:**\n",
    "    - *SimRank*, RootedPageRank\n",
    "- **Miscellanea:**\n",
    "    - Community, Copy, *Random*\n",
    "    \n",
    "In the following we'll test only few of them.\n",
    "\n",
    "For sake of simplicity here we'll show only the top-5 forecasts for each selected predictor."
   ]
  },
  {
   "cell_type": "markdown",
   "metadata": {},
   "source": [
    "#### 2.B.1 Neighborhood\n",
    "\n",
    "The first family of predictors is the one that tries to relate neighborhoods of node pairs with the likelihood of observing a tie among them. </br>\n",
    "The question such predictors try to answer is: *How many friend we have to share in order to become friends?*\n",
    "\n",
    "##### **Common Neighbors**\n",
    "\n",
    "The more friends we share, the more likely we will become friends."
   ]
  },
  {
   "cell_type": "code",
   "execution_count": 7,
   "metadata": {},
   "outputs": [
    {
     "name": "stdout",
     "output_type": "stream",
     "text": [
      "TOMMEN - MACE 8.0\n",
      "NED - LADY_CRANE 8.0\n",
      "NED - CLARENZO 8.0\n",
      "MARGAERY - IZEMBARO 8.0\n",
      "MARGAERY - ARYA 8.0\n"
     ]
    }
   ],
   "source": [
    "cn = linkpred.predictors.CommonNeighbours(g, excluded=g.edges()) # We aim to predict only new links, thus we exclude existing ones\n",
    "cn_results = cn.predict()\n",
    "\n",
    "top = cn_results.top(5)\n",
    "for edge, score in top.items():\n",
    "    print(edge, score)"
   ]
  },
  {
   "cell_type": "markdown",
   "metadata": {},
   "source": [
    "##### **Jaccard**\n",
    "The more similar our friends circles are, the more likely we will become friends."
   ]
  },
  {
   "cell_type": "code",
   "execution_count": 8,
   "metadata": {},
   "outputs": [
    {
     "name": "stdout",
     "output_type": "stream",
     "text": [
      "RED_PRIEST - KINVARA 1.0\n",
      "LITTLE_SAM - DICKON 1.0\n",
      "TOMMEN - MACE 0.7272727272727273\n",
      "JOFFREY - CAMELLO 0.7272727272727273\n",
      "OLD_NAN - BENJEN 0.7142857142857143\n"
     ]
    }
   ],
   "source": [
    "jc = linkpred.predictors.Jaccard(g, excluded=g.edges())\n",
    "jc_results = jc.predict()\n",
    "\n",
    "top = jc_results.top(5)\n",
    "for edge, score in top.items():\n",
    "    print(edge, score)"
   ]
  },
  {
   "cell_type": "markdown",
   "metadata": {},
   "source": [
    "##### **Adamic Adar**\n",
    "The more selective our mutual friends are, the more likely we will become friends."
   ]
  },
  {
   "cell_type": "code",
   "execution_count": 9,
   "metadata": {},
   "outputs": [
    {
     "name": "stdout",
     "output_type": "stream",
     "text": [
      "TOMMEN - MACE 3.187557281030789\n",
      "NED - LADY_CRANE 3.126371165725783\n",
      "NED - CLARENZO 3.126371165725783\n",
      "SANSA - ROBB 3.096644315133247\n",
      "JOFFREY - CAMELLO 2.8944937119329133\n"
     ]
    }
   ],
   "source": [
    "aa = linkpred.predictors.AdamicAdar(g, excluded=g.edges())\n",
    "aa_results = aa.predict()\n",
    "\n",
    "top = aa_results.top(5)\n",
    "for edge, score in top.items():\n",
    "    print(edge, score)"
   ]
  },
  {
   "cell_type": "markdown",
   "metadata": {},
   "source": [
    "#### 2.B.2 Paths\n",
    "\n",
    "The second family of predictors is the one that tries to relate node pairs distance with the likelihood of observing a tie among them in the future. </br>\n",
    "The question such predictors try to answer is: *How distant are we?*\n",
    "\n",
    "\n",
    "##### **Katz**\n",
    "Katz computes the weighted sum over all the paths between two nodes."
   ]
  },
  {
   "cell_type": "code",
   "execution_count": 10,
   "metadata": {},
   "outputs": [
    {
     "name": "stdout",
     "output_type": "stream",
     "text": [
      "Computing matrix powers: [############################################################] 5/5\n",
      "MARGAERY - IZEMBARO 8.094303942000002e-06\n",
      "MARGAERY - ARYA 8.093345628999996e-06\n",
      "CERSEI - CAMELLO 8.090298797999998e-06\n",
      "NED - LADY_CRANE 8.083239761000003e-06\n",
      "NED - CLARENZO 8.078180928e-06\n"
     ]
    }
   ],
   "source": [
    "kz = linkpred.predictors.Katz(g, excluded=g.edges())\n",
    "kz_results = kz.predict()\n",
    "\n",
    "top = kz_results.top(5)\n",
    "for edge, score in top.items():\n",
    "    print(edge, score)"
   ]
  },
  {
   "cell_type": "markdown",
   "metadata": {},
   "source": [
    "#### 2.B.3 Rankig\n",
    "\n",
    "The third family of predictors is the one that tries to relate node pairs position in the graph with the likelihood of observing a tie among them in the future. </br>\n",
    "The question such predictors try to answer is: *How similar are we?\n",
    "\n",
    "##### **SimRank**\n",
    "Two nodes are similar to the extent that their neighborhoods are similar."
   ]
  },
  {
   "cell_type": "code",
   "execution_count": 11,
   "metadata": {},
   "outputs": [
    {
     "name": "stdout",
     "output_type": "stream",
     "text": [
      "MAESTER_CITADEL - MAESTER_AEMON 0.2733736994823116\n",
      "MINISA - GUARD_CAPTAIN 0.2628535574460635\n",
      "HOSTER - GUARD_CAPTAIN 0.2628535574460635\n",
      "THOROS - GATINS 0.2031651362525189\n",
      "GATINS - BERIC 0.2031651362525189\n"
     ]
    }
   ],
   "source": [
    "simrank = linkpred.predictors.SimRank(g, excluded=g.edges())\n",
    "simrank_results = simrank.predict(c=0.5)\n",
    "\n",
    "top = simrank_results.top(5)\n",
    "for edge, score in top.items():\n",
    "    print(edge, score)"
   ]
  },
  {
   "cell_type": "markdown",
   "metadata": {},
   "source": [
    "#### 2.B.4 Miscellanea\n",
    "\n",
    "In this family fall alternative definitios of link predictors. </br>\n",
    "``linkpred`` groups here approaches that are commonly used as baselines.\n",
    "\n",
    "##### **Random**\n",
    "\n",
    "Random guessing."
   ]
  },
  {
   "cell_type": "code",
   "execution_count": 12,
   "metadata": {},
   "outputs": [
    {
     "name": "stdout",
     "output_type": "stream",
     "text": [
      "MAESTER_CITADEL - MAESTER_AEMON 0.2733736994823116\n",
      "MINISA - GUARD_CAPTAIN 0.2628535574460635\n",
      "HOSTER - GUARD_CAPTAIN 0.2628535574460635\n",
      "THOROS - GATINS 0.2031651362525189\n",
      "GATINS - BERIC 0.2031651362525189\n"
     ]
    }
   ],
   "source": [
    "rnd = linkpred.predictors.Random(g, excluded=g.edges())\n",
    "rnd_results = rnd.predict()\n",
    "\n",
    "top = simrank_results.top(5)\n",
    "for edge, score in top.items():\n",
    "    print(edge, score)"
   ]
  },
  {
   "cell_type": "markdown",
   "metadata": {},
   "source": [
    "<a id='eval'></a>\n",
    "### 2.C Evaluation and comparison of different predictors\n",
    "\n",
    "To evaluate a link predictor we have to separate the network used for training from the one used for testing purposes."
   ]
  },
  {
   "cell_type": "code",
   "execution_count": 13,
   "metadata": {},
   "outputs": [],
   "source": [
    "import random\n",
    "import itertools\n",
    "from linkpred.evaluation import Pair\n",
    "\n",
    "# Building the test network\n",
    "test = linkpred.read_network('data/gs7.edgelist')\n",
    "\n",
    "# Exclude test network from learning phase\n",
    "training = g.copy()\n",
    "\n",
    "# Node set\n",
    "nodes = list(g.nodes())\n",
    "nodes.extend(list(test.nodes()))\n",
    "\n",
    "# Compute the test set and the universe set\n",
    "test = [Pair(i) for i in test.edges()]\n",
    "universe = set([Pair(i) for i in itertools.product(nodes, nodes) if i[0]!=i[1]])"
   ]
  },
  {
   "cell_type": "markdown",
   "metadata": {},
   "source": [
    "After that, we can apply the predictors to the training network"
   ]
  },
  {
   "cell_type": "code",
   "execution_count": 14,
   "metadata": {},
   "outputs": [],
   "source": [
    "cn = linkpred.predictors.CommonNeighbours(training, excluded=training.edges())\n",
    "cn_results = cn.predict()\n",
    "\n",
    "aa = linkpred.predictors.AdamicAdar(training, excluded=training.edges())\n",
    "aa_results = aa.predict()\n",
    "\n",
    "jc = linkpred.predictors.Jaccard(training, excluded=training.edges())\n",
    "jc_results = jc.predict()"
   ]
  },
  {
   "cell_type": "markdown",
   "metadata": {},
   "source": [
    "Thus, we can evaluate the obtained prediction against the test"
   ]
  },
  {
   "cell_type": "code",
   "execution_count": 15,
   "metadata": {},
   "outputs": [],
   "source": [
    "cn_evaluation = linkpred.evaluation.EvaluationSheet(cn_results, test, universe)\n",
    "aa_evaluation = linkpred.evaluation.EvaluationSheet(aa_results, test, universe)\n",
    "jc_evaluation = linkpred.evaluation.EvaluationSheet(jc_results, test, universe)"
   ]
  },
  {
   "cell_type": "markdown",
   "metadata": {},
   "source": [
    "The results can be easlily compared using a ROC plot"
   ]
  },
  {
   "cell_type": "code",
   "execution_count": 16,
   "metadata": {},
   "outputs": [
    {
     "data": {
      "image/png": "[encoded data removed]",
      "text/plain": [
       "<Figure size 432x288 with 1 Axes>"
      ]
     },
     "metadata": {
      "needs_background": "light"
     },
     "output_type": "display_data"
    }
   ],
   "source": [
    "plt.plot(cn_evaluation.fallout(), cn_evaluation.recall(), label=\"Common Neighbors\")\n",
    "plt.plot(aa_evaluation.fallout(), aa_evaluation.recall(), label=\"Adamic Adar\")\n",
    "plt.plot(jc_evaluation.fallout(), jc_evaluation.recall(), label=\"Jaccard\")\n",
    "\n",
    "plt.xlabel(\"FPR\")\n",
    "plt.xlabel(\"TPR\")\n",
    "plt.legend()\n",
    "plt.show()"
   ]
  },
  {
   "cell_type": "markdown",
   "metadata": {},
   "source": [
    "A simple way to summarize the results offered by the ROC curve is through its AUC"
   ]
  },
  {
   "cell_type": "code",
   "execution_count": 17,
   "metadata": {},
   "outputs": [
    {
     "name": "stdout",
     "output_type": "stream",
     "text": [
      "Area Under Roc Curve (AUROC)\n",
      "Common Neigh.: \t 0.025717681925924538\n",
      "Adamic Adar: \t 0.02589950662044348\n",
      "Jaccard: \t 0.018159887369919418\n"
     ]
    }
   ],
   "source": [
    "from sklearn.metrics import auc\n",
    "\n",
    "print(\"Area Under Roc Curve (AUROC)\")\n",
    "print(f\"Common Neigh.: \\t {auc(cn_evaluation.fallout(), cn_evaluation.recall())}\")\n",
    "print(f\"Adamic Adar: \\t {auc(aa_evaluation.fallout(), aa_evaluation.recall())}\")\n",
    "print(f\"Jaccard: \\t {auc(jc_evaluation.fallout(), jc_evaluation.recall())}\")"
   ]
  },
  {
   "cell_type": "markdown",
   "metadata": {},
   "source": [
    "<a id=\"conclusion\"></a>\n",
    "## 3. Conclusions ([to top](#top))\n",
    "\n",
    "In this notebook we introduced the basic facilities offered by ``linkpred``.\n",
    "\n",
    "For any issue, suggestion, bug report refer the official [GitHub repository](https://github.com/rafguns/linkpred) of the project."
   ]
  },
  {
   "cell_type": "code",
   "execution_count": null,
   "metadata": {},
   "outputs": [],
   "source": []
  }
 ],
 "metadata": {
  "kernelspec": {
   "display_name": "Python 3",
   "language": "python",
   "name": "python3"
  },
  "language_info": {
   "codemirror_mode": {
    "name": "ipython",
    "version": 3
   },
   "file_extension": ".py",
   "mimetype": "text/x-python",
   "name": "python",
   "nbconvert_exporter": "python",
   "pygments_lexer": "ipython3",
   "version": "3.7.4"
  }
 },
 "nbformat": 4,
 "nbformat_minor": 4
}
