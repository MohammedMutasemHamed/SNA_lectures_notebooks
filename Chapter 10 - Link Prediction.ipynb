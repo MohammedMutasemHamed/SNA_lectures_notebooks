{
 "cells": [
  {
   "cell_type": "markdown",
   "metadata": {},
   "source": [
    "<span>\n",
    "<b>Author:</b> <a href=\"http://about.giuliorossetti.net\">Giulio Rossetti</a><br/>\n",
    "<b>Python version:</b>  >=3.6<br/>\n",
    "<b>LinkPred version:</b>  0.4.1<br/>\n",
    "<b>Last update:</b> 16/02/2021\n",
    "</span>"
   ]
  },
  {
   "cell_type": "markdown",
   "metadata": {},
   "source": [
    "<a id='top'></a>\n",
    "# *Chapter 10: Link Prediction*\n",
    "\n",
    "``linkpred`` is a python library designed to provide support to *unsupervised* link prediction analysis.\n",
    "\n",
    "In this notebook are introduced some of the main features of the library and an overview of its functionalities.\n",
    "\n",
    "**Note:** \n",
    "- this notebook is purposely not 100% comprehensive, it only discusses the basic things you need to get started.\n",
    "- LinkPred is developed and maintained by Raf Guns (University of Antwerp)"
   ]
  },
  {
   "cell_type": "markdown",
   "metadata": {},
   "source": [
    "## Table of Contents\n",
    "\n",
    "1. [Installing LinkPred](#install)\n",
    "2. [Prediction Workflow](#workflow)\n",
    "    1. [Loading the network from file](#graph)\n",
    "    2. [Computing the desired unsupervied predictors](#pred)\n",
    "    3. [Evaluation and comparison of different predictors](#eval)\n",
    "3. [Conclusions](#conclusion)"
   ]
  },
  {
   "cell_type": "markdown",
   "metadata": {},
   "source": [
    "<a id='install'></a>\n",
    "## 1. Installing LinkPred ([to top](#top))\n",
    "\n",
    "As a first step, we need to make sure that ``linkpred`` is installed and working.\n",
    "\n",
    "The library can be installed using ``pip``:"
   ]
  },
  {
   "cell_type": "markdown",
   "metadata": {},
   "source": [
    "    pip install linkpred"
   ]
  },
  {
   "cell_type": "markdown",
   "metadata": {},
   "source": [
    "In order to check if ``linkpred`` has been correctly installed just try to import it"
   ]
  },
  {
   "cell_type": "code",
   "execution_count": 1,
   "metadata": {},
   "outputs": [],
   "source": [
    "import linkpred"
   ]
  },
  {
   "cell_type": "markdown",
   "metadata": {},
   "source": [
    "<a id='workflow'></a>\n",
    "## 2. Prediction Workflow\n",
    "\n",
    "``linkpred`` offers complete support to all stages of the Link Prediction workflow:\n",
    "\n",
    "1. Network Loading\n",
    "2. Predictor selection and application\n",
    "3. Results evaluation \n",
    "\n",
    "<a id='graph'></a>\n",
    "### 2.A Loading the network from file\n",
    "\n",
    "To get started, ``linkpred`` requires to read the graph from file. </br>\n",
    "In our example we'll use Game of Thrones Season 6 edge data"
   ]
  },
  {
   "cell_type": "code",
   "execution_count": 2,
   "metadata": {},
   "outputs": [],
   "source": [
    "%matplotlib inline\n",
    "import matplotlib.pyplot as plt\n",
    "import networkx as nx"
   ]
  },
  {
   "cell_type": "code",
   "execution_count": 3,
   "metadata": {},
   "outputs": [],
   "source": [
    "def read_net_w(filename):\n",
    "    g = nx.Graph()\n",
    "    with open(filename) as f:\n",
    "        f.readline()\n",
    "        for l in f:\n",
    "            l = l.split(\",\")\n",
    "            g.add_edge(l[0], l[1], weight=int(l[2]))\n",
    "    return g\n",
    "\n",
    "# Game of Thrones data\n",
    "g = read_net_w(f'data/asioaf/got-s6-edges.csv')"
   ]
  },
  {
   "cell_type": "markdown",
   "metadata": {},
   "source": [
    "<a id='pred'></a>\n",
    "### 2.B Computing the desired unsupervied predictors\n",
    "\n",
    "``linkpred`` offers a wide number of unsupervied predictors organized into four families:\n",
    "- **Neighborhood:**\n",
    "    - *AdamicAdar*, AssociationStrength, *CommonNeighbours*, Cosine, DegreeProduct, *Jaccard*, MaxOverlap, MinOverlap, NMeasure, Pearson,ResourceAllocation\n",
    "- **Paths:**\n",
    "    - GraphDistance, *Katz*\n",
    "- **Ranking:**\n",
    "    - *SimRank*, RootedPageRank\n",
    "- **Miscellanea:**\n",
    "    - Community, Copy, *Random*\n",
    "    \n",
    "In the following we'll test only few of them.\n",
    "\n",
    "For sake of simplicity here we'll show only the top-5 forecasts for each selected predictor."
   ]
  },
  {
   "cell_type": "markdown",
   "metadata": {},
   "source": [
    "#### 2.B.1 Neighborhood\n",
    "\n",
    "The first family of predictors is the one that tries to relate neighborhoods of node pairs with the likelihood of observing a tie among them. </br>\n",
    "The question such predictors try to answer is: *How many friend we have to share in order to become friends?*\n",
    "\n",
    "##### **Common Neighbors**\n",
    "\n",
    "The more friends we share, the more likely we will become friends."
   ]
  },
  {
   "cell_type": "code",
   "execution_count": 4,
   "metadata": {},
   "outputs": [
    {
     "output_type": "stream",
     "name": "stdout",
     "text": [
      "TOMMEN - MACE 8.0\nNED - LADY_CRANE 8.0\nNED - CLARENZO 8.0\nMARGAERY - IZEMBARO 8.0\nMARGAERY - ARYA 8.0\n"
     ]
    }
   ],
   "source": [
    "cn = linkpred.predictors.CommonNeighbours(g, excluded=g.edges()) # We aim to predict only new links, thus we exclude existing ones\n",
    "cn_results = cn.predict()\n",
    "\n",
    "top = cn_results.top(5)\n",
    "for edge, score in top.items():\n",
    "    print(edge, score)"
   ]
  },
  {
   "cell_type": "markdown",
   "metadata": {},
   "source": [
    "##### **Jaccard**\n",
    "The more similar our friends circles are, the more likely we will become friends."
   ]
  },
  {
   "cell_type": "code",
   "execution_count": 5,
   "metadata": {},
   "outputs": [
    {
     "output_type": "stream",
     "name": "stdout",
     "text": [
      "RED_PRIEST - KINVARA 1.0\nLITTLE_SAM - DICKON 1.0\nTOMMEN - MACE 0.7272727272727273\nJOFFREY - CAMELLO 0.7272727272727273\nOLD_NAN - BENJEN 0.7142857142857143\n"
     ]
    }
   ],
   "source": [
    "jc = linkpred.predictors.Jaccard(g, excluded=g.edges())\n",
    "jc_results = jc.predict()\n",
    "\n",
    "top = jc_results.top(5)\n",
    "for edge, score in top.items():\n",
    "    print(edge, score)"
   ]
  },
  {
   "cell_type": "markdown",
   "metadata": {},
   "source": [
    "##### **Adamic Adar**\n",
    "The more selective our mutual friends are, the more likely we will become friends."
   ]
  },
  {
   "cell_type": "code",
   "execution_count": 6,
   "metadata": {},
   "outputs": [
    {
     "output_type": "stream",
     "name": "stdout",
     "text": [
      "TOMMEN - MACE 3.1875572810307897\nNED - LADY_CRANE 3.126371165725783\nNED - CLARENZO 3.126371165725783\nSANSA - ROBB 3.096644315133247\nJOFFREY - CAMELLO 2.8944937119329137\n"
     ]
    }
   ],
   "source": [
    "aa = linkpred.predictors.AdamicAdar(g, excluded=g.edges())\n",
    "aa_results = aa.predict()\n",
    "\n",
    "top = aa_results.top(5)\n",
    "for edge, score in top.items():\n",
    "    print(edge, score)"
   ]
  },
  {
   "cell_type": "markdown",
   "metadata": {},
   "source": [
    "#### 2.B.2 Paths\n",
    "\n",
    "The second family of predictors is the one that tries to relate node pairs distance with the likelihood of observing a tie among them in the future. </br>\n",
    "The question such predictors try to answer is: *How distant are we?*\n",
    "\n",
    "\n",
    "##### **Katz**\n",
    "Katz computes the weighted sum over all the paths between two nodes."
   ]
  },
  {
   "cell_type": "code",
   "execution_count": 7,
   "metadata": {},
   "outputs": [
    {
     "output_type": "stream",
     "name": "stdout",
     "text": [
      "\n",
      "LADY_CRANE - JAQEN 0.005567281893477002\n",
      "SANSA - ALLISER_THORNE 0.004169953567762\n",
      "TYRION - DAARIO 0.004128725185609999\n",
      "CERSEI - BRIENNE 0.0038690808165880003\n",
      "MELISANDRE - LYANNA_MORMONT 0.00354647474534\n"
     ]
    }
   ],
   "source": [
    "kz = linkpred.predictors.Katz(g, excluded=g.edges())\n",
    "kz_results = kz.predict()\n",
    "\n",
    "top = kz_results.top(5)\n",
    "for edge, score in top.items():\n",
    "    print(edge, score)"
   ]
  },
  {
   "source": [
    "##### **Graph Distance**\n",
    "Graph Distance compute the (negated) length of the shortest path between two nodes"
   ],
   "cell_type": "markdown",
   "metadata": {}
  },
  {
   "cell_type": "code",
   "execution_count": 8,
   "metadata": {},
   "outputs": [
    {
     "output_type": "stream",
     "name": "stdout",
     "text": [
      "LADY_CRANE - JAQEN 36.136054421768705\nTYRION - DAARIO 30.29268292682927\nCERSEI - BRIENNE 28.44827586206896\nMELISANDRE - LITTLEFINGER 23.427491305005294\nCERSEI - BRONN 23.294117647058822\n"
     ]
    }
   ],
   "source": [
    "gd = linkpred.predictors.GraphDistance(g, excluded=g.edges())\n",
    "gd_results = gd.predict()\n",
    "\n",
    "top = gd_results.top(5)\n",
    "for edge, score in top.items():\n",
    "    print(edge, score)"
   ]
  },
  {
   "cell_type": "markdown",
   "metadata": {},
   "source": [
    "#### 2.B.3 Rankig\n",
    "\n",
    "The third family of predictors is the one that tries to relate node pairs position in the graph with the likelihood of observing a tie among them in the future. </br>\n",
    "The question such predictors try to answer is: *How similar are we?\n",
    "\n",
    "##### **SimRank**\n",
    "Two nodes are similar to the extent that their neighborhoods are similar."
   ]
  },
  {
   "cell_type": "code",
   "execution_count": 9,
   "metadata": {},
   "outputs": [
    {
     "output_type": "stream",
     "name": "stdout",
     "text": [
      "MAESTER_CITADEL - MAESTER_AEMON 0.3920701611834243\nRAY - GATINS 0.3886464843365491\nGATINS - BERIC 0.3675791855431439\nTHOROS - GATINS 0.3636591552182033\nMAESTER_AEMON - GILLY 0.3198896231577875\n"
     ]
    }
   ],
   "source": [
    "simrank = linkpred.predictors.SimRank(g, excluded=g.edges())\n",
    "simrank_results = simrank.predict(c=0.5)\n",
    "\n",
    "top = simrank_results.top(5)\n",
    "for edge, score in top.items():\n",
    "    print(edge, score)"
   ]
  },
  {
   "cell_type": "markdown",
   "metadata": {},
   "source": [
    "#### 2.B.4 Miscellanea\n",
    "\n",
    "In this family fall alternative definitios of link predictors. </br>\n",
    "``linkpred`` groups here approaches that are commonly used as baselines.\n",
    "\n",
    "##### **Random**\n",
    "\n",
    "Random guessing."
   ]
  },
  {
   "cell_type": "code",
   "execution_count": 10,
   "metadata": {},
   "outputs": [
    {
     "output_type": "stream",
     "name": "stdout",
     "text": [
      "MAESTER_CITADEL - MAESTER_AEMON 0.3920701611834243\nRAY - GATINS 0.3886464843365491\nGATINS - BERIC 0.3675791855431439\nTHOROS - GATINS 0.3636591552182033\nMAESTER_AEMON - GILLY 0.3198896231577875\n"
     ]
    }
   ],
   "source": [
    "rnd = linkpred.predictors.Random(g, excluded=g.edges())\n",
    "rnd_results = rnd.predict()\n",
    "\n",
    "top = simrank_results.top(5)\n",
    "for edge, score in top.items():\n",
    "    print(edge, score)"
   ]
  },
  {
   "cell_type": "markdown",
   "metadata": {},
   "source": [
    "<a id='eval'></a>\n",
    "### 2.C Evaluation and comparison of different predictors\n",
    "\n",
    "To evaluate a link predictor we have to separate the network used for training from the one used for testing purposes."
   ]
  },
  {
   "cell_type": "code",
   "execution_count": 11,
   "metadata": {},
   "outputs": [],
   "source": [
    "import random\n",
    "import itertools\n",
    "from linkpred.evaluation import Pair\n",
    "\n",
    "# Building the test network\n",
    "test = read_net_w(f'data/asioaf/got-s7-edges.csv')\n",
    "\n",
    "# Exclude test network from learning phase\n",
    "training = g.copy()\n",
    "\n",
    "# Node set\n",
    "nodes = list(g.nodes())\n",
    "nodes.extend(list(test.nodes()))\n",
    "\n",
    "# Compute the test set and the universe set\n",
    "test = [Pair(i) for i in test.edges()]\n",
    "universe = set([Pair(i) for i in itertools.product(nodes, nodes) if i[0]!=i[1]])"
   ]
  },
  {
   "cell_type": "markdown",
   "metadata": {},
   "source": [
    "After that, we can apply the predictors to the training network"
   ]
  },
  {
   "cell_type": "code",
   "execution_count": 12,
   "metadata": {},
   "outputs": [],
   "source": [
    "cn = linkpred.predictors.CommonNeighbours(training, excluded=training.edges())\n",
    "cn_results = cn.predict()\n",
    "\n",
    "aa = linkpred.predictors.AdamicAdar(training, excluded=training.edges())\n",
    "aa_results = aa.predict()\n",
    "\n",
    "jc = linkpred.predictors.Jaccard(training, excluded=training.edges())\n",
    "jc_results = jc.predict()"
   ]
  },
  {
   "cell_type": "markdown",
   "metadata": {},
   "source": [
    "Thus, we can evaluate the obtained prediction against the test"
   ]
  },
  {
   "cell_type": "code",
   "execution_count": 13,
   "metadata": {},
   "outputs": [],
   "source": [
    "cn_evaluation = linkpred.evaluation.EvaluationSheet(cn_results, test, universe)\n",
    "aa_evaluation = linkpred.evaluation.EvaluationSheet(aa_results, test, universe)\n",
    "jc_evaluation = linkpred.evaluation.EvaluationSheet(jc_results, test, universe)"
   ]
  },
  {
   "cell_type": "markdown",
   "metadata": {},
   "source": [
    "The results can be easily compared using a ROC plot"
   ]
  },
  {
   "cell_type": "code",
   "execution_count": 14,
   "metadata": {},
   "outputs": [
    {
     "output_type": "display_data",
     "data": {
      "text/plain": "<Figure size 432x288 with 1 Axes>",
      "image/svg+xml": "<?xml version=\"1.0\" encoding=\"utf-8\" standalone=\"no\"?>\r\n<!DOCTYPE svg PUBLIC \"-//W3C//DTD SVG 1.1//EN\"\r\n  \"http://www.w3.org/Graphics/SVG/1.1/DTD/svg11.dtd\">\r\n<!-- Created with matplotlib (https://matplotlib.org/) -->\r\n<svg height=\"262.19625pt\" version=\"1.1\" viewBox=\"0 0 392.14375 262.19625\" width=\"392.14375pt\" xmlns=\"http://www.w3.org/2000/svg\" xmlns:xlink=\"http://www.w3.org/1999/xlink\">\r\n <defs>\r\n  <style type=\"text/css\">\r\n*{stroke-linecap:butt;stroke-linejoin:round;}\r\n  </style>\r\n </defs>\r\n <g id=\"figure_1\">\r\n  <g id=\"patch_1\">\r\n   <path d=\"M 0 262.19625 \r\nL 392.14375 262.19625 \r\nL 392.14375 0 \r\nL 0 0 \r\nz\r\n\" style=\"fill:none;\"/>\r\n  </g>\r\n  <g id=\"axes_1\">\r\n   <g id=\"patch_2\">\r\n    <path d=\"M 50.14375 224.64 \r\nL 384.94375 224.64 \r\nL 384.94375 7.2 \r\nL 50.14375 7.2 \r\nz\r\n\" style=\"fill:#ffffff;\"/>\r\n   </g>\r\n   <g id=\"matplotlib.axis_1\">\r\n    <g id=\"xtick_1\">\r\n     <g id=\"line2d_1\">\r\n      <defs>\r\n       <path d=\"M 0 0 \r\nL 0 3.5 \r\n\" id=\"m8998a2cfa9\" style=\"stroke:#000000;stroke-width:0.8;\"/>\r\n      </defs>\r\n      <g>\r\n       <use style=\"stroke:#000000;stroke-width:0.8;\" x=\"65.203244\" xlink:href=\"#m8998a2cfa9\" y=\"224.64\"/>\r\n      </g>\r\n     </g>\r\n     <g id=\"text_1\">\r\n      <!-- 0.00 -->\r\n      <defs>\r\n       <path d=\"M 31.78125 66.40625 \r\nQ 24.171875 66.40625 20.328125 58.90625 \r\nQ 16.5 51.421875 16.5 36.375 \r\nQ 16.5 21.390625 20.328125 13.890625 \r\nQ 24.171875 6.390625 31.78125 6.390625 \r\nQ 39.453125 6.390625 43.28125 13.890625 \r\nQ 47.125 21.390625 47.125 36.375 \r\nQ 47.125 51.421875 43.28125 58.90625 \r\nQ 39.453125 66.40625 31.78125 66.40625 \r\nz\r\nM 31.78125 74.21875 \r\nQ 44.046875 74.21875 50.515625 64.515625 \r\nQ 56.984375 54.828125 56.984375 36.375 \r\nQ 56.984375 17.96875 50.515625 8.265625 \r\nQ 44.046875 -1.421875 31.78125 -1.421875 \r\nQ 19.53125 -1.421875 13.0625 8.265625 \r\nQ 6.59375 17.96875 6.59375 36.375 \r\nQ 6.59375 54.828125 13.0625 64.515625 \r\nQ 19.53125 74.21875 31.78125 74.21875 \r\nz\r\n\" id=\"DejaVuSans-48\"/>\r\n       <path d=\"M 10.6875 12.40625 \r\nL 21 12.40625 \r\nL 21 0 \r\nL 10.6875 0 \r\nz\r\n\" id=\"DejaVuSans-46\"/>\r\n      </defs>\r\n      <g transform=\"translate(54.070431 239.238437)scale(0.1 -0.1)\">\r\n       <use xlink:href=\"#DejaVuSans-48\"/>\r\n       <use x=\"63.623047\" xlink:href=\"#DejaVuSans-46\"/>\r\n       <use x=\"95.410156\" xlink:href=\"#DejaVuSans-48\"/>\r\n       <use x=\"159.033203\" xlink:href=\"#DejaVuSans-48\"/>\r\n      </g>\r\n     </g>\r\n    </g>\r\n    <g id=\"xtick_2\">\r\n     <g id=\"line2d_2\">\r\n      <g>\r\n       <use style=\"stroke:#000000;stroke-width:0.8;\" x=\"103.761261\" xlink:href=\"#m8998a2cfa9\" y=\"224.64\"/>\r\n      </g>\r\n     </g>\r\n     <g id=\"text_2\">\r\n      <!-- 0.02 -->\r\n      <defs>\r\n       <path d=\"M 19.1875 8.296875 \r\nL 53.609375 8.296875 \r\nL 53.609375 0 \r\nL 7.328125 0 \r\nL 7.328125 8.296875 \r\nQ 12.9375 14.109375 22.625 23.890625 \r\nQ 32.328125 33.6875 34.8125 36.53125 \r\nQ 39.546875 41.84375 41.421875 45.53125 \r\nQ 43.3125 49.21875 43.3125 52.78125 \r\nQ 43.3125 58.59375 39.234375 62.25 \r\nQ 35.15625 65.921875 28.609375 65.921875 \r\nQ 23.96875 65.921875 18.8125 64.3125 \r\nQ 13.671875 62.703125 7.8125 59.421875 \r\nL 7.8125 69.390625 \r\nQ 13.765625 71.78125 18.9375 73 \r\nQ 24.125 74.21875 28.421875 74.21875 \r\nQ 39.75 74.21875 46.484375 68.546875 \r\nQ 53.21875 62.890625 53.21875 53.421875 \r\nQ 53.21875 48.921875 51.53125 44.890625 \r\nQ 49.859375 40.875 45.40625 35.40625 \r\nQ 44.1875 33.984375 37.640625 27.21875 \r\nQ 31.109375 20.453125 19.1875 8.296875 \r\nz\r\n\" id=\"DejaVuSans-50\"/>\r\n      </defs>\r\n      <g transform=\"translate(92.628448 239.238437)scale(0.1 -0.1)\">\r\n       <use xlink:href=\"#DejaVuSans-48\"/>\r\n       <use x=\"63.623047\" xlink:href=\"#DejaVuSans-46\"/>\r\n       <use x=\"95.410156\" xlink:href=\"#DejaVuSans-48\"/>\r\n       <use x=\"159.033203\" xlink:href=\"#DejaVuSans-50\"/>\r\n      </g>\r\n     </g>\r\n    </g>\r\n    <g id=\"xtick_3\">\r\n     <g id=\"line2d_3\">\r\n      <g>\r\n       <use style=\"stroke:#000000;stroke-width:0.8;\" x=\"142.319278\" xlink:href=\"#m8998a2cfa9\" y=\"224.64\"/>\r\n      </g>\r\n     </g>\r\n     <g id=\"text_3\">\r\n      <!-- 0.04 -->\r\n      <defs>\r\n       <path d=\"M 37.796875 64.3125 \r\nL 12.890625 25.390625 \r\nL 37.796875 25.390625 \r\nz\r\nM 35.203125 72.90625 \r\nL 47.609375 72.90625 \r\nL 47.609375 25.390625 \r\nL 58.015625 25.390625 \r\nL 58.015625 17.1875 \r\nL 47.609375 17.1875 \r\nL 47.609375 0 \r\nL 37.796875 0 \r\nL 37.796875 17.1875 \r\nL 4.890625 17.1875 \r\nL 4.890625 26.703125 \r\nz\r\n\" id=\"DejaVuSans-52\"/>\r\n      </defs>\r\n      <g transform=\"translate(131.186465 239.238437)scale(0.1 -0.1)\">\r\n       <use xlink:href=\"#DejaVuSans-48\"/>\r\n       <use x=\"63.623047\" xlink:href=\"#DejaVuSans-46\"/>\r\n       <use x=\"95.410156\" xlink:href=\"#DejaVuSans-48\"/>\r\n       <use x=\"159.033203\" xlink:href=\"#DejaVuSans-52\"/>\r\n      </g>\r\n     </g>\r\n    </g>\r\n    <g id=\"xtick_4\">\r\n     <g id=\"line2d_4\">\r\n      <g>\r\n       <use style=\"stroke:#000000;stroke-width:0.8;\" x=\"180.877294\" xlink:href=\"#m8998a2cfa9\" y=\"224.64\"/>\r\n      </g>\r\n     </g>\r\n     <g id=\"text_4\">\r\n      <!-- 0.06 -->\r\n      <defs>\r\n       <path d=\"M 33.015625 40.375 \r\nQ 26.375 40.375 22.484375 35.828125 \r\nQ 18.609375 31.296875 18.609375 23.390625 \r\nQ 18.609375 15.53125 22.484375 10.953125 \r\nQ 26.375 6.390625 33.015625 6.390625 \r\nQ 39.65625 6.390625 43.53125 10.953125 \r\nQ 47.40625 15.53125 47.40625 23.390625 \r\nQ 47.40625 31.296875 43.53125 35.828125 \r\nQ 39.65625 40.375 33.015625 40.375 \r\nz\r\nM 52.59375 71.296875 \r\nL 52.59375 62.3125 \r\nQ 48.875 64.0625 45.09375 64.984375 \r\nQ 41.3125 65.921875 37.59375 65.921875 \r\nQ 27.828125 65.921875 22.671875 59.328125 \r\nQ 17.53125 52.734375 16.796875 39.40625 \r\nQ 19.671875 43.65625 24.015625 45.921875 \r\nQ 28.375 48.1875 33.59375 48.1875 \r\nQ 44.578125 48.1875 50.953125 41.515625 \r\nQ 57.328125 34.859375 57.328125 23.390625 \r\nQ 57.328125 12.15625 50.6875 5.359375 \r\nQ 44.046875 -1.421875 33.015625 -1.421875 \r\nQ 20.359375 -1.421875 13.671875 8.265625 \r\nQ 6.984375 17.96875 6.984375 36.375 \r\nQ 6.984375 53.65625 15.1875 63.9375 \r\nQ 23.390625 74.21875 37.203125 74.21875 \r\nQ 40.921875 74.21875 44.703125 73.484375 \r\nQ 48.484375 72.75 52.59375 71.296875 \r\nz\r\n\" id=\"DejaVuSans-54\"/>\r\n      </defs>\r\n      <g transform=\"translate(169.744482 239.238437)scale(0.1 -0.1)\">\r\n       <use xlink:href=\"#DejaVuSans-48\"/>\r\n       <use x=\"63.623047\" xlink:href=\"#DejaVuSans-46\"/>\r\n       <use x=\"95.410156\" xlink:href=\"#DejaVuSans-48\"/>\r\n       <use x=\"159.033203\" xlink:href=\"#DejaVuSans-54\"/>\r\n      </g>\r\n     </g>\r\n    </g>\r\n    <g id=\"xtick_5\">\r\n     <g id=\"line2d_5\">\r\n      <g>\r\n       <use style=\"stroke:#000000;stroke-width:0.8;\" x=\"219.435311\" xlink:href=\"#m8998a2cfa9\" y=\"224.64\"/>\r\n      </g>\r\n     </g>\r\n     <g id=\"text_5\">\r\n      <!-- 0.08 -->\r\n      <defs>\r\n       <path d=\"M 31.78125 34.625 \r\nQ 24.75 34.625 20.71875 30.859375 \r\nQ 16.703125 27.09375 16.703125 20.515625 \r\nQ 16.703125 13.921875 20.71875 10.15625 \r\nQ 24.75 6.390625 31.78125 6.390625 \r\nQ 38.8125 6.390625 42.859375 10.171875 \r\nQ 46.921875 13.96875 46.921875 20.515625 \r\nQ 46.921875 27.09375 42.890625 30.859375 \r\nQ 38.875 34.625 31.78125 34.625 \r\nz\r\nM 21.921875 38.8125 \r\nQ 15.578125 40.375 12.03125 44.71875 \r\nQ 8.5 49.078125 8.5 55.328125 \r\nQ 8.5 64.0625 14.71875 69.140625 \r\nQ 20.953125 74.21875 31.78125 74.21875 \r\nQ 42.671875 74.21875 48.875 69.140625 \r\nQ 55.078125 64.0625 55.078125 55.328125 \r\nQ 55.078125 49.078125 51.53125 44.71875 \r\nQ 48 40.375 41.703125 38.8125 \r\nQ 48.828125 37.15625 52.796875 32.3125 \r\nQ 56.78125 27.484375 56.78125 20.515625 \r\nQ 56.78125 9.90625 50.3125 4.234375 \r\nQ 43.84375 -1.421875 31.78125 -1.421875 \r\nQ 19.734375 -1.421875 13.25 4.234375 \r\nQ 6.78125 9.90625 6.78125 20.515625 \r\nQ 6.78125 27.484375 10.78125 32.3125 \r\nQ 14.796875 37.15625 21.921875 38.8125 \r\nz\r\nM 18.3125 54.390625 \r\nQ 18.3125 48.734375 21.84375 45.5625 \r\nQ 25.390625 42.390625 31.78125 42.390625 \r\nQ 38.140625 42.390625 41.71875 45.5625 \r\nQ 45.3125 48.734375 45.3125 54.390625 \r\nQ 45.3125 60.0625 41.71875 63.234375 \r\nQ 38.140625 66.40625 31.78125 66.40625 \r\nQ 25.390625 66.40625 21.84375 63.234375 \r\nQ 18.3125 60.0625 18.3125 54.390625 \r\nz\r\n\" id=\"DejaVuSans-56\"/>\r\n      </defs>\r\n      <g transform=\"translate(208.302499 239.238437)scale(0.1 -0.1)\">\r\n       <use xlink:href=\"#DejaVuSans-48\"/>\r\n       <use x=\"63.623047\" xlink:href=\"#DejaVuSans-46\"/>\r\n       <use x=\"95.410156\" xlink:href=\"#DejaVuSans-48\"/>\r\n       <use x=\"159.033203\" xlink:href=\"#DejaVuSans-56\"/>\r\n      </g>\r\n     </g>\r\n    </g>\r\n    <g id=\"xtick_6\">\r\n     <g id=\"line2d_6\">\r\n      <g>\r\n       <use style=\"stroke:#000000;stroke-width:0.8;\" x=\"257.993328\" xlink:href=\"#m8998a2cfa9\" y=\"224.64\"/>\r\n      </g>\r\n     </g>\r\n     <g id=\"text_6\">\r\n      <!-- 0.10 -->\r\n      <defs>\r\n       <path d=\"M 12.40625 8.296875 \r\nL 28.515625 8.296875 \r\nL 28.515625 63.921875 \r\nL 10.984375 60.40625 \r\nL 10.984375 69.390625 \r\nL 28.421875 72.90625 \r\nL 38.28125 72.90625 \r\nL 38.28125 8.296875 \r\nL 54.390625 8.296875 \r\nL 54.390625 0 \r\nL 12.40625 0 \r\nz\r\n\" id=\"DejaVuSans-49\"/>\r\n      </defs>\r\n      <g transform=\"translate(246.860516 239.238437)scale(0.1 -0.1)\">\r\n       <use xlink:href=\"#DejaVuSans-48\"/>\r\n       <use x=\"63.623047\" xlink:href=\"#DejaVuSans-46\"/>\r\n       <use x=\"95.410156\" xlink:href=\"#DejaVuSans-49\"/>\r\n       <use x=\"159.033203\" xlink:href=\"#DejaVuSans-48\"/>\r\n      </g>\r\n     </g>\r\n    </g>\r\n    <g id=\"xtick_7\">\r\n     <g id=\"line2d_7\">\r\n      <g>\r\n       <use style=\"stroke:#000000;stroke-width:0.8;\" x=\"296.551345\" xlink:href=\"#m8998a2cfa9\" y=\"224.64\"/>\r\n      </g>\r\n     </g>\r\n     <g id=\"text_7\">\r\n      <!-- 0.12 -->\r\n      <g transform=\"translate(285.418533 239.238437)scale(0.1 -0.1)\">\r\n       <use xlink:href=\"#DejaVuSans-48\"/>\r\n       <use x=\"63.623047\" xlink:href=\"#DejaVuSans-46\"/>\r\n       <use x=\"95.410156\" xlink:href=\"#DejaVuSans-49\"/>\r\n       <use x=\"159.033203\" xlink:href=\"#DejaVuSans-50\"/>\r\n      </g>\r\n     </g>\r\n    </g>\r\n    <g id=\"xtick_8\">\r\n     <g id=\"line2d_8\">\r\n      <g>\r\n       <use style=\"stroke:#000000;stroke-width:0.8;\" x=\"335.109362\" xlink:href=\"#m8998a2cfa9\" y=\"224.64\"/>\r\n      </g>\r\n     </g>\r\n     <g id=\"text_8\">\r\n      <!-- 0.14 -->\r\n      <g transform=\"translate(323.976549 239.238437)scale(0.1 -0.1)\">\r\n       <use xlink:href=\"#DejaVuSans-48\"/>\r\n       <use x=\"63.623047\" xlink:href=\"#DejaVuSans-46\"/>\r\n       <use x=\"95.410156\" xlink:href=\"#DejaVuSans-49\"/>\r\n       <use x=\"159.033203\" xlink:href=\"#DejaVuSans-52\"/>\r\n      </g>\r\n     </g>\r\n    </g>\r\n    <g id=\"xtick_9\">\r\n     <g id=\"line2d_9\">\r\n      <g>\r\n       <use style=\"stroke:#000000;stroke-width:0.8;\" x=\"373.667379\" xlink:href=\"#m8998a2cfa9\" y=\"224.64\"/>\r\n      </g>\r\n     </g>\r\n     <g id=\"text_9\">\r\n      <!-- 0.16 -->\r\n      <g transform=\"translate(362.534566 239.238437)scale(0.1 -0.1)\">\r\n       <use xlink:href=\"#DejaVuSans-48\"/>\r\n       <use x=\"63.623047\" xlink:href=\"#DejaVuSans-46\"/>\r\n       <use x=\"95.410156\" xlink:href=\"#DejaVuSans-49\"/>\r\n       <use x=\"159.033203\" xlink:href=\"#DejaVuSans-54\"/>\r\n      </g>\r\n     </g>\r\n    </g>\r\n    <g id=\"text_10\">\r\n     <!-- FPR -->\r\n     <defs>\r\n      <path d=\"M 9.8125 72.90625 \r\nL 51.703125 72.90625 \r\nL 51.703125 64.59375 \r\nL 19.671875 64.59375 \r\nL 19.671875 43.109375 \r\nL 48.578125 43.109375 \r\nL 48.578125 34.8125 \r\nL 19.671875 34.8125 \r\nL 19.671875 0 \r\nL 9.8125 0 \r\nz\r\n\" id=\"DejaVuSans-70\"/>\r\n      <path d=\"M 19.671875 64.796875 \r\nL 19.671875 37.40625 \r\nL 32.078125 37.40625 \r\nQ 38.96875 37.40625 42.71875 40.96875 \r\nQ 46.484375 44.53125 46.484375 51.125 \r\nQ 46.484375 57.671875 42.71875 61.234375 \r\nQ 38.96875 64.796875 32.078125 64.796875 \r\nz\r\nM 9.8125 72.90625 \r\nL 32.078125 72.90625 \r\nQ 44.34375 72.90625 50.609375 67.359375 \r\nQ 56.890625 61.8125 56.890625 51.125 \r\nQ 56.890625 40.328125 50.609375 34.8125 \r\nQ 44.34375 29.296875 32.078125 29.296875 \r\nL 19.671875 29.296875 \r\nL 19.671875 0 \r\nL 9.8125 0 \r\nz\r\n\" id=\"DejaVuSans-80\"/>\r\n      <path d=\"M 44.390625 34.1875 \r\nQ 47.5625 33.109375 50.5625 29.59375 \r\nQ 53.5625 26.078125 56.59375 19.921875 \r\nL 66.609375 0 \r\nL 56 0 \r\nL 46.6875 18.703125 \r\nQ 43.0625 26.03125 39.671875 28.421875 \r\nQ 36.28125 30.8125 30.421875 30.8125 \r\nL 19.671875 30.8125 \r\nL 19.671875 0 \r\nL 9.8125 0 \r\nL 9.8125 72.90625 \r\nL 32.078125 72.90625 \r\nQ 44.578125 72.90625 50.734375 67.671875 \r\nQ 56.890625 62.453125 56.890625 51.90625 \r\nQ 56.890625 45.015625 53.6875 40.46875 \r\nQ 50.484375 35.9375 44.390625 34.1875 \r\nz\r\nM 19.671875 64.796875 \r\nL 19.671875 38.921875 \r\nL 32.078125 38.921875 \r\nQ 39.203125 38.921875 42.84375 42.21875 \r\nQ 46.484375 45.515625 46.484375 51.90625 \r\nQ 46.484375 58.296875 42.84375 61.546875 \r\nQ 39.203125 64.796875 32.078125 64.796875 \r\nz\r\n\" id=\"DejaVuSans-82\"/>\r\n     </defs>\r\n     <g transform=\"translate(208.178906 252.916562)scale(0.1 -0.1)\">\r\n      <use xlink:href=\"#DejaVuSans-70\"/>\r\n      <use x=\"57.519531\" xlink:href=\"#DejaVuSans-80\"/>\r\n      <use x=\"117.822266\" xlink:href=\"#DejaVuSans-82\"/>\r\n     </g>\r\n    </g>\r\n   </g>\r\n   <g id=\"matplotlib.axis_2\">\r\n    <g id=\"ytick_1\">\r\n     <g id=\"line2d_10\">\r\n      <defs>\r\n       <path d=\"M 0 0 \r\nL -3.5 0 \r\n\" id=\"me2ff20bfd5\" style=\"stroke:#000000;stroke-width:0.8;\"/>\r\n      </defs>\r\n      <g>\r\n       <use style=\"stroke:#000000;stroke-width:0.8;\" x=\"50.14375\" xlink:href=\"#me2ff20bfd5\" y=\"214.756364\"/>\r\n      </g>\r\n     </g>\r\n     <g id=\"text_11\">\r\n      <!-- 0.00 -->\r\n      <g transform=\"translate(20.878125 218.555582)scale(0.1 -0.1)\">\r\n       <use xlink:href=\"#DejaVuSans-48\"/>\r\n       <use x=\"63.623047\" xlink:href=\"#DejaVuSans-46\"/>\r\n       <use x=\"95.410156\" xlink:href=\"#DejaVuSans-48\"/>\r\n       <use x=\"159.033203\" xlink:href=\"#DejaVuSans-48\"/>\r\n      </g>\r\n     </g>\r\n    </g>\r\n    <g id=\"ytick_2\">\r\n     <g id=\"line2d_11\">\r\n      <g>\r\n       <use style=\"stroke:#000000;stroke-width:0.8;\" x=\"50.14375\" xlink:href=\"#me2ff20bfd5\" y=\"181.378838\"/>\r\n      </g>\r\n     </g>\r\n     <g id=\"text_12\">\r\n      <!-- 0.05 -->\r\n      <defs>\r\n       <path d=\"M 10.796875 72.90625 \r\nL 49.515625 72.90625 \r\nL 49.515625 64.59375 \r\nL 19.828125 64.59375 \r\nL 19.828125 46.734375 \r\nQ 21.96875 47.46875 24.109375 47.828125 \r\nQ 26.265625 48.1875 28.421875 48.1875 \r\nQ 40.625 48.1875 47.75 41.5 \r\nQ 54.890625 34.8125 54.890625 23.390625 \r\nQ 54.890625 11.625 47.5625 5.09375 \r\nQ 40.234375 -1.421875 26.90625 -1.421875 \r\nQ 22.3125 -1.421875 17.546875 -0.640625 \r\nQ 12.796875 0.140625 7.71875 1.703125 \r\nL 7.71875 11.625 \r\nQ 12.109375 9.234375 16.796875 8.0625 \r\nQ 21.484375 6.890625 26.703125 6.890625 \r\nQ 35.15625 6.890625 40.078125 11.328125 \r\nQ 45.015625 15.765625 45.015625 23.390625 \r\nQ 45.015625 31 40.078125 35.4375 \r\nQ 35.15625 39.890625 26.703125 39.890625 \r\nQ 22.75 39.890625 18.8125 39.015625 \r\nQ 14.890625 38.140625 10.796875 36.28125 \r\nz\r\n\" id=\"DejaVuSans-53\"/>\r\n      </defs>\r\n      <g transform=\"translate(20.878125 185.178056)scale(0.1 -0.1)\">\r\n       <use xlink:href=\"#DejaVuSans-48\"/>\r\n       <use x=\"63.623047\" xlink:href=\"#DejaVuSans-46\"/>\r\n       <use x=\"95.410156\" xlink:href=\"#DejaVuSans-48\"/>\r\n       <use x=\"159.033203\" xlink:href=\"#DejaVuSans-53\"/>\r\n      </g>\r\n     </g>\r\n    </g>\r\n    <g id=\"ytick_3\">\r\n     <g id=\"line2d_12\">\r\n      <g>\r\n       <use style=\"stroke:#000000;stroke-width:0.8;\" x=\"50.14375\" xlink:href=\"#me2ff20bfd5\" y=\"148.001311\"/>\r\n      </g>\r\n     </g>\r\n     <g id=\"text_13\">\r\n      <!-- 0.10 -->\r\n      <g transform=\"translate(20.878125 151.80053)scale(0.1 -0.1)\">\r\n       <use xlink:href=\"#DejaVuSans-48\"/>\r\n       <use x=\"63.623047\" xlink:href=\"#DejaVuSans-46\"/>\r\n       <use x=\"95.410156\" xlink:href=\"#DejaVuSans-49\"/>\r\n       <use x=\"159.033203\" xlink:href=\"#DejaVuSans-48\"/>\r\n      </g>\r\n     </g>\r\n    </g>\r\n    <g id=\"ytick_4\">\r\n     <g id=\"line2d_13\">\r\n      <g>\r\n       <use style=\"stroke:#000000;stroke-width:0.8;\" x=\"50.14375\" xlink:href=\"#me2ff20bfd5\" y=\"114.623785\"/>\r\n      </g>\r\n     </g>\r\n     <g id=\"text_14\">\r\n      <!-- 0.15 -->\r\n      <g transform=\"translate(20.878125 118.423004)scale(0.1 -0.1)\">\r\n       <use xlink:href=\"#DejaVuSans-48\"/>\r\n       <use x=\"63.623047\" xlink:href=\"#DejaVuSans-46\"/>\r\n       <use x=\"95.410156\" xlink:href=\"#DejaVuSans-49\"/>\r\n       <use x=\"159.033203\" xlink:href=\"#DejaVuSans-53\"/>\r\n      </g>\r\n     </g>\r\n    </g>\r\n    <g id=\"ytick_5\">\r\n     <g id=\"line2d_14\">\r\n      <g>\r\n       <use style=\"stroke:#000000;stroke-width:0.8;\" x=\"50.14375\" xlink:href=\"#me2ff20bfd5\" y=\"81.246259\"/>\r\n      </g>\r\n     </g>\r\n     <g id=\"text_15\">\r\n      <!-- 0.20 -->\r\n      <g transform=\"translate(20.878125 85.045478)scale(0.1 -0.1)\">\r\n       <use xlink:href=\"#DejaVuSans-48\"/>\r\n       <use x=\"63.623047\" xlink:href=\"#DejaVuSans-46\"/>\r\n       <use x=\"95.410156\" xlink:href=\"#DejaVuSans-50\"/>\r\n       <use x=\"159.033203\" xlink:href=\"#DejaVuSans-48\"/>\r\n      </g>\r\n     </g>\r\n    </g>\r\n    <g id=\"ytick_6\">\r\n     <g id=\"line2d_15\">\r\n      <g>\r\n       <use style=\"stroke:#000000;stroke-width:0.8;\" x=\"50.14375\" xlink:href=\"#me2ff20bfd5\" y=\"47.868733\"/>\r\n      </g>\r\n     </g>\r\n     <g id=\"text_16\">\r\n      <!-- 0.25 -->\r\n      <g transform=\"translate(20.878125 51.667952)scale(0.1 -0.1)\">\r\n       <use xlink:href=\"#DejaVuSans-48\"/>\r\n       <use x=\"63.623047\" xlink:href=\"#DejaVuSans-46\"/>\r\n       <use x=\"95.410156\" xlink:href=\"#DejaVuSans-50\"/>\r\n       <use x=\"159.033203\" xlink:href=\"#DejaVuSans-53\"/>\r\n      </g>\r\n     </g>\r\n    </g>\r\n    <g id=\"ytick_7\">\r\n     <g id=\"line2d_16\">\r\n      <g>\r\n       <use style=\"stroke:#000000;stroke-width:0.8;\" x=\"50.14375\" xlink:href=\"#me2ff20bfd5\" y=\"14.491207\"/>\r\n      </g>\r\n     </g>\r\n     <g id=\"text_17\">\r\n      <!-- 0.30 -->\r\n      <defs>\r\n       <path d=\"M 40.578125 39.3125 \r\nQ 47.65625 37.796875 51.625 33 \r\nQ 55.609375 28.21875 55.609375 21.1875 \r\nQ 55.609375 10.40625 48.1875 4.484375 \r\nQ 40.765625 -1.421875 27.09375 -1.421875 \r\nQ 22.515625 -1.421875 17.65625 -0.515625 \r\nQ 12.796875 0.390625 7.625 2.203125 \r\nL 7.625 11.71875 \r\nQ 11.71875 9.328125 16.59375 8.109375 \r\nQ 21.484375 6.890625 26.8125 6.890625 \r\nQ 36.078125 6.890625 40.9375 10.546875 \r\nQ 45.796875 14.203125 45.796875 21.1875 \r\nQ 45.796875 27.640625 41.28125 31.265625 \r\nQ 36.765625 34.90625 28.71875 34.90625 \r\nL 20.21875 34.90625 \r\nL 20.21875 43.015625 \r\nL 29.109375 43.015625 \r\nQ 36.375 43.015625 40.234375 45.921875 \r\nQ 44.09375 48.828125 44.09375 54.296875 \r\nQ 44.09375 59.90625 40.109375 62.90625 \r\nQ 36.140625 65.921875 28.71875 65.921875 \r\nQ 24.65625 65.921875 20.015625 65.03125 \r\nQ 15.375 64.15625 9.8125 62.3125 \r\nL 9.8125 71.09375 \r\nQ 15.4375 72.65625 20.34375 73.4375 \r\nQ 25.25 74.21875 29.59375 74.21875 \r\nQ 40.828125 74.21875 47.359375 69.109375 \r\nQ 53.90625 64.015625 53.90625 55.328125 \r\nQ 53.90625 49.265625 50.4375 45.09375 \r\nQ 46.96875 40.921875 40.578125 39.3125 \r\nz\r\n\" id=\"DejaVuSans-51\"/>\r\n      </defs>\r\n      <g transform=\"translate(20.878125 18.290426)scale(0.1 -0.1)\">\r\n       <use xlink:href=\"#DejaVuSans-48\"/>\r\n       <use x=\"63.623047\" xlink:href=\"#DejaVuSans-46\"/>\r\n       <use x=\"95.410156\" xlink:href=\"#DejaVuSans-51\"/>\r\n       <use x=\"159.033203\" xlink:href=\"#DejaVuSans-48\"/>\r\n      </g>\r\n     </g>\r\n    </g>\r\n    <g id=\"text_18\">\r\n     <!-- TPR -->\r\n     <defs>\r\n      <path d=\"M -0.296875 72.90625 \r\nL 61.375 72.90625 \r\nL 61.375 64.59375 \r\nL 35.5 64.59375 \r\nL 35.5 0 \r\nL 25.59375 0 \r\nL 25.59375 64.59375 \r\nL -0.296875 64.59375 \r\nz\r\n\" id=\"DejaVuSans-84\"/>\r\n     </defs>\r\n     <g transform=\"translate(14.798438 125.462969)rotate(-90)scale(0.1 -0.1)\">\r\n      <use xlink:href=\"#DejaVuSans-84\"/>\r\n      <use x=\"61.083984\" xlink:href=\"#DejaVuSans-80\"/>\r\n      <use x=\"121.386719\" xlink:href=\"#DejaVuSans-82\"/>\r\n     </g>\r\n    </g>\r\n   </g>\r\n   <g id=\"line2d_17\">\r\n    <path clip-path=\"url(#p8cf698052f)\" d=\"M 65.361932 214.756364 \r\nL 66.472748 214.756364 \r\nL 66.472748 213.136095 \r\nL 66.631436 213.136095 \r\nL 66.631436 211.515827 \r\nL 67.1075 211.515827 \r\nL 67.1075 209.895559 \r\nL 67.90094 209.895559 \r\nL 67.90094 208.275291 \r\nL 69.487821 208.275291 \r\nL 69.487821 206.655022 \r\nL 69.646509 206.655022 \r\nL 69.646509 205.034754 \r\nL 69.963885 205.034754 \r\nL 69.963885 203.414486 \r\nL 74.407149 203.414486 \r\nL 74.407149 201.794218 \r\nL 76.78747 201.794218 \r\nL 76.78747 200.173949 \r\nL 79.802542 200.173949 \r\nL 79.802542 198.553681 \r\nL 82.976303 198.553681 \r\nL 82.976303 196.933413 \r\nL 84.721871 196.933413 \r\nL 84.721871 195.313145 \r\nL 87.26088 195.313145 \r\nL 87.26088 193.692876 \r\nL 87.736944 193.692876 \r\nL 87.736944 188.832072 \r\nL 91.386768 188.832072 \r\nL 91.386768 187.211803 \r\nL 91.545456 187.211803 \r\nL 91.545456 182.350999 \r\nL 92.02152 182.350999 \r\nL 92.02152 180.73073 \r\nL 92.180208 180.73073 \r\nL 92.180208 174.249657 \r\nL 93.925777 174.249657 \r\nL 93.925777 171.009121 \r\nL 98.686418 171.009121 \r\nL 98.686418 169.388852 \r\nL 99.32117 169.388852 \r\nL 99.32117 167.768584 \r\nL 102.812306 167.768584 \r\nL 102.812306 166.148316 \r\nL 105.827379 166.148316 \r\nL 105.827379 164.528048 \r\nL 113.285716 164.528048 \r\nL 113.285716 162.907779 \r\nL 113.920468 162.907779 \r\nL 113.920468 161.287511 \r\nL 114.237844 161.287511 \r\nL 114.237844 156.426706 \r\nL 114.872596 156.426706 \r\nL 114.872596 154.806438 \r\nL 120.267989 154.806438 \r\nL 120.267989 153.18617 \r\nL 120.902741 153.18617 \r\nL 120.902741 151.565902 \r\nL 124.711254 151.565902 \r\nL 124.711254 149.945633 \r\nL 127.091574 149.945633 \r\nL 127.091574 148.325365 \r\nL 138.041048 148.325365 \r\nL 138.041048 146.705097 \r\nL 142.960377 146.705097 \r\nL 142.960377 145.084829 \r\nL 144.229881 145.084829 \r\nL 144.229881 143.46456 \r\nL 145.97545 143.46456 \r\nL 145.97545 141.844292 \r\nL 151.212155 141.844292 \r\nL 151.212155 140.224024 \r\nL 152.957723 140.224024 \r\nL 152.957723 138.603756 \r\nL 157.877052 138.603756 \r\nL 157.877052 136.983487 \r\nL 158.82918 136.983487 \r\nL 158.82918 135.363219 \r\nL 160.892124 135.363219 \r\nL 160.892124 133.742951 \r\nL 162.637693 133.742951 \r\nL 162.637693 132.122683 \r\nL 165.176701 132.122683 \r\nL 165.176701 130.502414 \r\nL 166.128829 130.502414 \r\nL 166.128829 128.882146 \r\nL 166.922269 128.882146 \r\nL 166.922269 127.261878 \r\nL 169.937342 127.261878 \r\nL 169.937342 125.64161 \r\nL 170.254718 125.64161 \r\nL 170.254718 124.021341 \r\nL 171.048158 124.021341 \r\nL 171.048158 122.401073 \r\nL 171.841598 122.401073 \r\nL 171.841598 120.780805 \r\nL 173.26979 120.780805 \r\nL 173.26979 119.160537 \r\nL 173.428478 119.160537 \r\nL 173.428478 117.540268 \r\nL 174.697983 117.540268 \r\nL 174.697983 115.92 \r\nL 174.856671 115.92 \r\nL 174.856671 114.299732 \r\nL 175.491423 114.299732 \r\nL 175.491423 112.679463 \r\nL 177.554367 112.679463 \r\nL 177.554367 111.059195 \r\nL 177.871743 111.059195 \r\nL 177.871743 109.438927 \r\nL 196.914306 109.438927 \r\nL 196.914306 104.578122 \r\nL 197.390371 104.578122 \r\nL 197.390371 102.957854 \r\nL 198.183811 102.957854 \r\nL 198.183811 101.337586 \r\nL 198.659875 101.337586 \r\nL 198.659875 99.717317 \r\nL 199.135939 99.717317 \r\nL 199.135939 98.097049 \r\nL 206.435588 98.097049 \r\nL 206.435588 96.476781 \r\nL 208.65722 96.476781 \r\nL 208.65722 93.236244 \r\nL 209.926725 93.236244 \r\nL 209.926725 91.615976 \r\nL 211.672293 91.615976 \r\nL 211.672293 89.995708 \r\nL 211.830981 89.995708 \r\nL 211.830981 88.37544 \r\nL 213.417861 88.37544 \r\nL 213.417861 86.755171 \r\nL 213.576549 86.755171 \r\nL 213.576549 85.134903 \r\nL 221.828327 85.134903 \r\nL 221.828327 83.514635 \r\nL 222.780455 83.514635 \r\nL 222.780455 81.894367 \r\nL 223.732583 81.894367 \r\nL 223.732583 80.274098 \r\nL 224.684711 80.274098 \r\nL 224.684711 78.65383 \r\nL 242.775146 78.65383 \r\nL 242.775146 77.033562 \r\nL 245.155467 77.033562 \r\nL 245.155467 75.413294 \r\nL 246.107595 75.413294 \r\nL 246.107595 73.793025 \r\nL 258.326573 73.793025 \r\nL 258.326573 72.172757 \r\nL 265.626222 72.172757 \r\nL 265.626222 70.552489 \r\nL 281.812401 70.552489 \r\nL 281.812401 68.932221 \r\nL 283.240593 68.932221 \r\nL 283.240593 67.311952 \r\nL 283.875345 67.311952 \r\nL 283.875345 65.691684 \r\nL 291.492371 65.691684 \r\nL 291.492371 64.071416 \r\nL 294.983507 64.071416 \r\nL 294.983507 62.451148 \r\nL 298.950708 62.451148 \r\nL 298.950708 60.830879 \r\nL 300.3789 60.830879 \r\nL 300.3789 59.210611 \r\nL 301.013652 59.210611 \r\nL 301.013652 55.970075 \r\nL 305.456917 55.970075 \r\nL 305.456917 54.349806 \r\nL 307.202485 54.349806 \r\nL 307.202485 51.10927 \r\nL 320.373592 51.10927 \r\nL 320.373592 49.489001 \r\nL 326.879801 49.489001 \r\nL 326.879801 47.868733 \r\nL 331.164378 47.868733 \r\nL 331.164378 44.628197 \r\nL 331.640442 44.628197 \r\nL 331.640442 43.007928 \r\nL 340.368283 43.007928 \r\nL 340.368283 41.38766 \r\nL 340.844347 41.38766 \r\nL 340.844347 39.767392 \r\nL 341.003035 39.767392 \r\nL 341.003035 38.147124 \r\nL 341.161723 38.147124 \r\nL 341.161723 36.526855 \r\nL 341.320411 36.526855 \r\nL 341.320411 33.286319 \r\nL 347.03318 33.286319 \r\nL 347.03318 30.045782 \r\nL 347.191868 30.045782 \r\nL 347.191868 28.425514 \r\nL 358.458718 28.425514 \r\nL 358.458718 25.184978 \r\nL 362.108543 25.184978 \r\nL 362.108543 23.564709 \r\nL 363.695423 23.564709 \r\nL 363.695423 21.944441 \r\nL 364.647551 21.944441 \r\nL 364.647551 20.324173 \r\nL 364.964927 20.324173 \r\nL 364.964927 18.703905 \r\nL 367.345248 18.703905 \r\nL 367.345248 17.083636 \r\nL 369.725568 17.083636 \r\nL 369.725568 17.083636 \r\n\" style=\"fill:none;stroke:#1f77b4;stroke-linecap:square;stroke-width:1.5;\"/>\r\n   </g>\r\n   <g id=\"line2d_18\">\r\n    <path clip-path=\"url(#p8cf698052f)\" d=\"M 65.361932 214.756364 \r\nL 65.679308 214.756364 \r\nL 65.679308 213.136095 \r\nL 66.31406 213.136095 \r\nL 66.31406 211.515827 \r\nL 67.1075 211.515827 \r\nL 67.1075 209.895559 \r\nL 68.218316 209.895559 \r\nL 68.218316 208.275291 \r\nL 68.535692 208.275291 \r\nL 68.535692 205.034754 \r\nL 69.170444 205.034754 \r\nL 69.170444 203.414486 \r\nL 72.185517 203.414486 \r\nL 72.185517 201.794218 \r\nL 73.613709 201.794218 \r\nL 73.613709 200.173949 \r\nL 79.16779 200.173949 \r\nL 79.16779 198.553681 \r\nL 80.913358 198.553681 \r\nL 80.913358 196.933413 \r\nL 82.024175 196.933413 \r\nL 82.024175 195.313145 \r\nL 83.452367 195.313145 \r\nL 83.452367 193.692876 \r\nL 85.832687 193.692876 \r\nL 85.832687 192.072608 \r\nL 90.117264 192.072608 \r\nL 90.117264 190.45234 \r\nL 92.973649 190.45234 \r\nL 92.973649 188.832072 \r\nL 94.877905 188.832072 \r\nL 94.877905 187.211803 \r\nL 98.52773 187.211803 \r\nL 98.52773 185.591535 \r\nL 105.351315 185.591535 \r\nL 105.351315 179.110462 \r\nL 105.510003 179.110462 \r\nL 105.510003 177.490194 \r\nL 108.049011 177.490194 \r\nL 108.049011 174.249657 \r\nL 108.683763 174.249657 \r\nL 108.683763 172.629389 \r\nL 111.857524 172.629389 \r\nL 111.857524 167.768584 \r\nL 112.650964 167.768584 \r\nL 112.650964 166.148316 \r\nL 113.285716 166.148316 \r\nL 113.285716 164.528048 \r\nL 113.603092 164.528048 \r\nL 113.603092 162.907779 \r\nL 114.237844 162.907779 \r\nL 114.237844 161.287511 \r\nL 115.666036 161.287511 \r\nL 115.666036 159.667243 \r\nL 116.142101 159.667243 \r\nL 116.142101 158.046975 \r\nL 119.791925 158.046975 \r\nL 119.791925 154.806438 \r\nL 121.061429 154.806438 \r\nL 121.061429 153.18617 \r\nL 122.330934 153.18617 \r\nL 122.330934 151.565902 \r\nL 122.965686 151.565902 \r\nL 122.965686 149.945633 \r\nL 124.552566 149.945633 \r\nL 124.552566 148.325365 \r\nL 137.247608 148.325365 \r\nL 137.247608 146.705097 \r\nL 137.564984 146.705097 \r\nL 137.564984 141.844292 \r\nL 140.103993 141.844292 \r\nL 140.103993 140.224024 \r\nL 143.119065 140.224024 \r\nL 143.119065 138.603756 \r\nL 143.595129 138.603756 \r\nL 143.595129 136.983487 \r\nL 144.864633 136.983487 \r\nL 144.864633 135.363219 \r\nL 145.658074 135.363219 \r\nL 145.658074 133.742951 \r\nL 146.292826 133.742951 \r\nL 146.292826 132.122683 \r\nL 148.038394 132.122683 \r\nL 148.038394 130.502414 \r\nL 163.431133 130.502414 \r\nL 163.431133 128.882146 \r\nL 165.652765 128.882146 \r\nL 165.652765 127.261878 \r\nL 167.080957 127.261878 \r\nL 167.080957 125.64161 \r\nL 172.635038 125.64161 \r\nL 172.635038 124.021341 \r\nL 173.111102 124.021341 \r\nL 173.111102 122.401073 \r\nL 174.221919 122.401073 \r\nL 174.221919 120.780805 \r\nL 174.539295 120.780805 \r\nL 174.539295 119.160537 \r\nL 174.697983 119.160537 \r\nL 174.697983 117.540268 \r\nL 175.491423 117.540268 \r\nL 175.491423 114.299732 \r\nL 182.315008 114.299732 \r\nL 182.315008 112.679463 \r\nL 183.584512 112.679463 \r\nL 183.584512 111.059195 \r\nL 187.393025 111.059195 \r\nL 187.393025 109.438927 \r\nL 188.821217 109.438927 \r\nL 188.821217 107.818659 \r\nL 188.979905 107.818659 \r\nL 188.979905 102.957854 \r\nL 189.455969 102.957854 \r\nL 189.455969 101.337586 \r\nL 191.360225 101.337586 \r\nL 191.360225 99.717317 \r\nL 191.518914 99.717317 \r\nL 191.518914 98.097049 \r\nL 195.80349 98.097049 \r\nL 195.80349 96.476781 \r\nL 195.962178 96.476781 \r\nL 195.962178 94.856513 \r\nL 197.549059 94.856513 \r\nL 197.549059 93.236244 \r\nL 200.405443 93.236244 \r\nL 200.405443 91.615976 \r\nL 207.07034 91.615976 \r\nL 207.07034 89.995708 \r\nL 212.624421 89.995708 \r\nL 212.624421 88.37544 \r\nL 214.369989 88.37544 \r\nL 214.369989 86.755171 \r\nL 215.16343 86.755171 \r\nL 215.16343 85.134903 \r\nL 217.861126 85.134903 \r\nL 217.861126 83.514635 \r\nL 220.082758 83.514635 \r\nL 220.082758 81.894367 \r\nL 229.445352 81.894367 \r\nL 229.445352 80.274098 \r\nL 242.45777 80.274098 \r\nL 242.45777 78.65383 \r\nL 255.787565 78.65383 \r\nL 255.787565 77.033562 \r\nL 259.278701 77.033562 \r\nL 259.278701 75.413294 \r\nL 260.230829 75.413294 \r\nL 260.230829 73.793025 \r\nL 263.245902 73.793025 \r\nL 263.245902 72.172757 \r\nL 269.910799 72.172757 \r\nL 269.910799 70.552489 \r\nL 274.67144 70.552489 \r\nL 274.67144 68.932221 \r\nL 275.46488 68.932221 \r\nL 275.46488 67.311952 \r\nL 276.575696 67.311952 \r\nL 276.575696 65.691684 \r\nL 280.860273 65.691684 \r\nL 280.860273 64.071416 \r\nL 281.018961 64.071416 \r\nL 281.018961 62.451148 \r\nL 286.414354 62.451148 \r\nL 286.414354 59.210611 \r\nL 289.11205 59.210611 \r\nL 289.11205 57.590343 \r\nL 289.429426 57.590343 \r\nL 289.429426 55.970075 \r\nL 291.174995 55.970075 \r\nL 291.174995 52.729538 \r\nL 294.031379 52.729538 \r\nL 294.031379 51.10927 \r\nL 299.109396 51.10927 \r\nL 299.109396 49.489001 \r\nL 301.965781 49.489001 \r\nL 301.965781 47.868733 \r\nL 304.346101 47.868733 \r\nL 304.346101 46.248465 \r\nL 309.106742 46.248465 \r\nL 309.106742 44.628197 \r\nL 312.43919 44.628197 \r\nL 312.43919 43.007928 \r\nL 313.391318 43.007928 \r\nL 313.391318 41.38766 \r\nL 323.70604 41.38766 \r\nL 323.70604 39.767392 \r\nL 323.864728 39.767392 \r\nL 323.864728 38.147124 \r\nL 324.49948 38.147124 \r\nL 324.49948 36.526855 \r\nL 326.562425 36.526855 \r\nL 326.562425 34.906587 \r\nL 326.879801 34.906587 \r\nL 326.879801 33.286319 \r\nL 333.38601 33.286319 \r\nL 333.38601 31.666051 \r\nL 334.496826 31.666051 \r\nL 334.496826 30.045782 \r\nL 350.048253 30.045782 \r\nL 350.048253 28.425514 \r\nL 356.871838 28.425514 \r\nL 356.871838 26.805246 \r\nL 357.50659 26.805246 \r\nL 357.50659 23.564709 \r\nL 357.982654 23.564709 \r\nL 357.982654 21.944441 \r\nL 359.728222 21.944441 \r\nL 359.728222 20.324173 \r\nL 367.503936 20.324173 \r\nL 367.503936 18.703905 \r\nL 369.725568 18.703905 \r\nL 369.725568 17.083636 \r\nL 369.725568 17.083636 \r\n\" style=\"fill:none;stroke:#ff7f0e;stroke-linecap:square;stroke-width:1.5;\"/>\r\n   </g>\r\n   <g id=\"line2d_19\">\r\n    <path clip-path=\"url(#p8cf698052f)\" d=\"M 65.361932 214.756364 \r\nL 66.472748 214.756364 \r\nL 66.472748 213.136095 \r\nL 73.772397 213.136095 \r\nL 73.772397 211.515827 \r\nL 75.517966 211.515827 \r\nL 75.517966 209.895559 \r\nL 78.850414 209.895559 \r\nL 78.850414 208.275291 \r\nL 85.832687 208.275291 \r\nL 85.832687 206.655022 \r\nL 86.943504 206.655022 \r\nL 86.943504 205.034754 \r\nL 103.129682 205.034754 \r\nL 103.129682 203.414486 \r\nL 106.303443 203.414486 \r\nL 106.303443 201.794218 \r\nL 108.366387 201.794218 \r\nL 108.366387 196.933413 \r\nL 108.842451 196.933413 \r\nL 108.842451 195.313145 \r\nL 113.603092 195.313145 \r\nL 113.603092 193.692876 \r\nL 115.666036 193.692876 \r\nL 115.666036 192.072608 \r\nL 119.791925 192.072608 \r\nL 119.791925 190.45234 \r\nL 122.64831 190.45234 \r\nL 122.64831 188.832072 \r\nL 126.139446 188.832072 \r\nL 126.139446 187.211803 \r\nL 132.010903 187.211803 \r\nL 132.010903 185.591535 \r\nL 132.645655 185.591535 \r\nL 132.645655 183.971267 \r\nL 135.025976 183.971267 \r\nL 135.025976 182.350999 \r\nL 139.627929 182.350999 \r\nL 139.627929 180.73073 \r\nL 145.97545 180.73073 \r\nL 145.97545 179.110462 \r\nL 146.610202 179.110462 \r\nL 146.610202 177.490194 \r\nL 148.35577 177.490194 \r\nL 148.35577 175.869925 \r\nL 151.688219 175.869925 \r\nL 151.688219 174.249657 \r\nL 155.655419 174.249657 \r\nL 155.655419 172.629389 \r\nL 161.685564 172.629389 \r\nL 161.685564 169.388852 \r\nL 163.589821 169.388852 \r\nL 163.589821 167.768584 \r\nL 169.778654 167.768584 \r\nL 169.778654 166.148316 \r\nL 178.982559 166.148316 \r\nL 178.982559 164.528048 \r\nL 182.791072 164.528048 \r\nL 182.791072 162.907779 \r\nL 183.7432 162.907779 \r\nL 183.7432 161.287511 \r\nL 183.901888 161.287511 \r\nL 183.901888 159.667243 \r\nL 184.854016 159.667243 \r\nL 184.854016 158.046975 \r\nL 186.916961 158.046975 \r\nL 186.916961 156.426706 \r\nL 189.138593 156.426706 \r\nL 189.138593 154.806438 \r\nL 190.249409 154.806438 \r\nL 190.249409 153.18617 \r\nL 194.375298 153.18617 \r\nL 194.375298 151.565902 \r\nL 196.120866 151.565902 \r\nL 196.120866 149.945633 \r\nL 198.659875 149.945633 \r\nL 198.659875 148.325365 \r\nL 198.818563 148.325365 \r\nL 198.818563 145.084829 \r\nL 198.977251 145.084829 \r\nL 198.977251 143.46456 \r\nL 205.007396 143.46456 \r\nL 205.007396 141.844292 \r\nL 210.878853 141.844292 \r\nL 210.878853 138.603756 \r\nL 211.513605 138.603756 \r\nL 211.513605 136.983487 \r\nL 212.148357 136.983487 \r\nL 212.148357 135.363219 \r\nL 212.307045 135.363219 \r\nL 212.307045 133.742951 \r\nL 214.052613 133.742951 \r\nL 214.052613 132.122683 \r\nL 222.463079 132.122683 \r\nL 222.463079 130.502414 \r\nL 223.097831 130.502414 \r\nL 223.097831 128.882146 \r\nL 224.367335 128.882146 \r\nL 224.367335 127.261878 \r\nL 225.478151 127.261878 \r\nL 225.478151 125.64161 \r\nL 225.636839 125.64161 \r\nL 225.636839 124.021341 \r\nL 228.334536 124.021341 \r\nL 228.334536 122.401073 \r\nL 233.412553 122.401073 \r\nL 233.412553 120.780805 \r\nL 236.903689 120.780805 \r\nL 236.903689 119.160537 \r\nL 238.014506 119.160537 \r\nL 238.014506 117.540268 \r\nL 244.996779 117.540268 \r\nL 244.996779 115.92 \r\nL 252.455116 115.92 \r\nL 252.455116 114.299732 \r\nL 255.946253 114.299732 \r\nL 255.946253 112.679463 \r\nL 258.009197 112.679463 \r\nL 258.009197 111.059195 \r\nL 268.641295 111.059195 \r\nL 268.641295 109.438927 \r\nL 268.958671 109.438927 \r\nL 268.958671 107.818659 \r\nL 270.545551 107.818659 \r\nL 270.545551 106.19839 \r\nL 275.782256 106.19839 \r\nL 275.782256 104.578122 \r\nL 279.908145 104.578122 \r\nL 279.908145 102.957854 \r\nL 284.827474 102.957854 \r\nL 284.827474 101.337586 \r\nL 285.779602 101.337586 \r\nL 285.779602 99.717317 \r\nL 286.414354 99.717317 \r\nL 286.414354 98.097049 \r\nL 286.573042 98.097049 \r\nL 286.573042 94.856513 \r\nL 289.270738 94.856513 \r\nL 289.270738 93.236244 \r\nL 292.444499 93.236244 \r\nL 292.444499 91.615976 \r\nL 298.79202 91.615976 \r\nL 298.79202 89.995708 \r\nL 299.268084 89.995708 \r\nL 299.268084 88.37544 \r\nL 301.489716 88.37544 \r\nL 301.489716 86.755171 \r\nL 306.091669 86.755171 \r\nL 306.091669 85.134903 \r\nL 307.519861 85.134903 \r\nL 307.519861 83.514635 \r\nL 314.026071 83.514635 \r\nL 314.026071 81.894367 \r\nL 319.580152 81.894367 \r\nL 319.580152 80.274098 \r\nL 320.056216 80.274098 \r\nL 320.056216 78.65383 \r\nL 320.849656 78.65383 \r\nL 320.849656 77.033562 \r\nL 323.70604 77.033562 \r\nL 323.70604 75.413294 \r\nL 330.688313 75.413294 \r\nL 330.688313 73.793025 \r\nL 333.862074 73.793025 \r\nL 333.862074 72.172757 \r\nL 334.496826 72.172757 \r\nL 334.496826 70.552489 \r\nL 335.290266 70.552489 \r\nL 335.290266 68.932221 \r\nL 337.511899 68.932221 \r\nL 337.511899 67.311952 \r\nL 338.464027 67.311952 \r\nL 338.464027 65.691684 \r\nL 339.892219 65.691684 \r\nL 339.892219 62.451148 \r\nL 342.589916 62.451148 \r\nL 342.589916 60.830879 \r\nL 342.907292 60.830879 \r\nL 342.907292 59.210611 \r\nL 344.811548 59.210611 \r\nL 344.811548 57.590343 \r\nL 345.128924 57.590343 \r\nL 345.128924 55.970075 \r\nL 349.096125 55.970075 \r\nL 349.096125 54.349806 \r\nL 349.413501 54.349806 \r\nL 349.413501 52.729538 \r\nL 353.856765 52.729538 \r\nL 353.856765 51.10927 \r\nL 354.650206 51.10927 \r\nL 354.650206 49.489001 \r\nL 356.71315 49.489001 \r\nL 356.71315 47.868733 \r\nL 357.030526 47.868733 \r\nL 357.030526 46.248465 \r\nL 358.30003 46.248465 \r\nL 358.30003 44.628197 \r\nL 358.934782 44.628197 \r\nL 358.934782 43.007928 \r\nL 359.252158 43.007928 \r\nL 359.252158 41.38766 \r\nL 360.204287 41.38766 \r\nL 360.204287 39.767392 \r\nL 360.362975 39.767392 \r\nL 360.362975 38.147124 \r\nL 362.743295 38.147124 \r\nL 362.743295 36.526855 \r\nL 363.695423 36.526855 \r\nL 363.695423 34.906587 \r\nL 364.012799 34.906587 \r\nL 364.012799 33.286319 \r\nL 364.171487 33.286319 \r\nL 364.171487 31.666051 \r\nL 364.964927 31.666051 \r\nL 364.964927 30.045782 \r\nL 365.917056 30.045782 \r\nL 365.917056 25.184978 \r\nL 366.710496 25.184978 \r\nL 366.710496 23.564709 \r\nL 369.56688 23.564709 \r\nL 369.56688 21.944441 \r\nL 369.725568 21.944441 \r\nL 369.725568 17.083636 \r\nL 369.725568 17.083636 \r\n\" style=\"fill:none;stroke:#2ca02c;stroke-linecap:square;stroke-width:1.5;\"/>\r\n   </g>\r\n   <g id=\"patch_3\">\r\n    <path d=\"M 50.14375 224.64 \r\nL 50.14375 7.2 \r\n\" style=\"fill:none;stroke:#000000;stroke-linecap:square;stroke-linejoin:miter;stroke-width:0.8;\"/>\r\n   </g>\r\n   <g id=\"patch_4\">\r\n    <path d=\"M 384.94375 224.64 \r\nL 384.94375 7.2 \r\n\" style=\"fill:none;stroke:#000000;stroke-linecap:square;stroke-linejoin:miter;stroke-width:0.8;\"/>\r\n   </g>\r\n   <g id=\"patch_5\">\r\n    <path d=\"M 50.14375 224.64 \r\nL 384.94375 224.64 \r\n\" style=\"fill:none;stroke:#000000;stroke-linecap:square;stroke-linejoin:miter;stroke-width:0.8;\"/>\r\n   </g>\r\n   <g id=\"patch_6\">\r\n    <path d=\"M 50.14375 7.2 \r\nL 384.94375 7.2 \r\n\" style=\"fill:none;stroke:#000000;stroke-linecap:square;stroke-linejoin:miter;stroke-width:0.8;\"/>\r\n   </g>\r\n   <g id=\"legend_1\">\r\n    <g id=\"patch_7\">\r\n     <path d=\"M 57.14375 59.234375 \r\nL 188.246875 59.234375 \r\nQ 190.246875 59.234375 190.246875 57.234375 \r\nL 190.246875 14.2 \r\nQ 190.246875 12.2 188.246875 12.2 \r\nL 57.14375 12.2 \r\nQ 55.14375 12.2 55.14375 14.2 \r\nL 55.14375 57.234375 \r\nQ 55.14375 59.234375 57.14375 59.234375 \r\nz\r\n\" style=\"fill:#ffffff;opacity:0.8;stroke:#cccccc;stroke-linejoin:miter;\"/>\r\n    </g>\r\n    <g id=\"line2d_20\">\r\n     <path d=\"M 59.14375 20.298437 \r\nL 79.14375 20.298437 \r\n\" style=\"fill:none;stroke:#1f77b4;stroke-linecap:square;stroke-width:1.5;\"/>\r\n    </g>\r\n    <g id=\"line2d_21\"/>\r\n    <g id=\"text_19\">\r\n     <!-- Common Neighbors -->\r\n     <defs>\r\n      <path d=\"M 64.40625 67.28125 \r\nL 64.40625 56.890625 \r\nQ 59.421875 61.53125 53.78125 63.8125 \r\nQ 48.140625 66.109375 41.796875 66.109375 \r\nQ 29.296875 66.109375 22.65625 58.46875 \r\nQ 16.015625 50.828125 16.015625 36.375 \r\nQ 16.015625 21.96875 22.65625 14.328125 \r\nQ 29.296875 6.6875 41.796875 6.6875 \r\nQ 48.140625 6.6875 53.78125 8.984375 \r\nQ 59.421875 11.28125 64.40625 15.921875 \r\nL 64.40625 5.609375 \r\nQ 59.234375 2.09375 53.4375 0.328125 \r\nQ 47.65625 -1.421875 41.21875 -1.421875 \r\nQ 24.65625 -1.421875 15.125 8.703125 \r\nQ 5.609375 18.84375 5.609375 36.375 \r\nQ 5.609375 53.953125 15.125 64.078125 \r\nQ 24.65625 74.21875 41.21875 74.21875 \r\nQ 47.75 74.21875 53.53125 72.484375 \r\nQ 59.328125 70.75 64.40625 67.28125 \r\nz\r\n\" id=\"DejaVuSans-67\"/>\r\n      <path d=\"M 30.609375 48.390625 \r\nQ 23.390625 48.390625 19.1875 42.75 \r\nQ 14.984375 37.109375 14.984375 27.296875 \r\nQ 14.984375 17.484375 19.15625 11.84375 \r\nQ 23.34375 6.203125 30.609375 6.203125 \r\nQ 37.796875 6.203125 41.984375 11.859375 \r\nQ 46.1875 17.53125 46.1875 27.296875 \r\nQ 46.1875 37.015625 41.984375 42.703125 \r\nQ 37.796875 48.390625 30.609375 48.390625 \r\nz\r\nM 30.609375 56 \r\nQ 42.328125 56 49.015625 48.375 \r\nQ 55.71875 40.765625 55.71875 27.296875 \r\nQ 55.71875 13.875 49.015625 6.21875 \r\nQ 42.328125 -1.421875 30.609375 -1.421875 \r\nQ 18.84375 -1.421875 12.171875 6.21875 \r\nQ 5.515625 13.875 5.515625 27.296875 \r\nQ 5.515625 40.765625 12.171875 48.375 \r\nQ 18.84375 56 30.609375 56 \r\nz\r\n\" id=\"DejaVuSans-111\"/>\r\n      <path d=\"M 52 44.1875 \r\nQ 55.375 50.25 60.0625 53.125 \r\nQ 64.75 56 71.09375 56 \r\nQ 79.640625 56 84.28125 50.015625 \r\nQ 88.921875 44.046875 88.921875 33.015625 \r\nL 88.921875 0 \r\nL 79.890625 0 \r\nL 79.890625 32.71875 \r\nQ 79.890625 40.578125 77.09375 44.375 \r\nQ 74.3125 48.1875 68.609375 48.1875 \r\nQ 61.625 48.1875 57.5625 43.546875 \r\nQ 53.515625 38.921875 53.515625 30.90625 \r\nL 53.515625 0 \r\nL 44.484375 0 \r\nL 44.484375 32.71875 \r\nQ 44.484375 40.625 41.703125 44.40625 \r\nQ 38.921875 48.1875 33.109375 48.1875 \r\nQ 26.21875 48.1875 22.15625 43.53125 \r\nQ 18.109375 38.875 18.109375 30.90625 \r\nL 18.109375 0 \r\nL 9.078125 0 \r\nL 9.078125 54.6875 \r\nL 18.109375 54.6875 \r\nL 18.109375 46.1875 \r\nQ 21.1875 51.21875 25.484375 53.609375 \r\nQ 29.78125 56 35.6875 56 \r\nQ 41.65625 56 45.828125 52.96875 \r\nQ 50 49.953125 52 44.1875 \r\nz\r\n\" id=\"DejaVuSans-109\"/>\r\n      <path d=\"M 54.890625 33.015625 \r\nL 54.890625 0 \r\nL 45.90625 0 \r\nL 45.90625 32.71875 \r\nQ 45.90625 40.484375 42.875 44.328125 \r\nQ 39.84375 48.1875 33.796875 48.1875 \r\nQ 26.515625 48.1875 22.3125 43.546875 \r\nQ 18.109375 38.921875 18.109375 30.90625 \r\nL 18.109375 0 \r\nL 9.078125 0 \r\nL 9.078125 54.6875 \r\nL 18.109375 54.6875 \r\nL 18.109375 46.1875 \r\nQ 21.34375 51.125 25.703125 53.5625 \r\nQ 30.078125 56 35.796875 56 \r\nQ 45.21875 56 50.046875 50.171875 \r\nQ 54.890625 44.34375 54.890625 33.015625 \r\nz\r\n\" id=\"DejaVuSans-110\"/>\r\n      <path id=\"DejaVuSans-32\"/>\r\n      <path d=\"M 9.8125 72.90625 \r\nL 23.09375 72.90625 \r\nL 55.421875 11.921875 \r\nL 55.421875 72.90625 \r\nL 64.984375 72.90625 \r\nL 64.984375 0 \r\nL 51.703125 0 \r\nL 19.390625 60.984375 \r\nL 19.390625 0 \r\nL 9.8125 0 \r\nz\r\n\" id=\"DejaVuSans-78\"/>\r\n      <path d=\"M 56.203125 29.59375 \r\nL 56.203125 25.203125 \r\nL 14.890625 25.203125 \r\nQ 15.484375 15.921875 20.484375 11.0625 \r\nQ 25.484375 6.203125 34.421875 6.203125 \r\nQ 39.59375 6.203125 44.453125 7.46875 \r\nQ 49.3125 8.734375 54.109375 11.28125 \r\nL 54.109375 2.78125 \r\nQ 49.265625 0.734375 44.1875 -0.34375 \r\nQ 39.109375 -1.421875 33.890625 -1.421875 \r\nQ 20.796875 -1.421875 13.15625 6.1875 \r\nQ 5.515625 13.8125 5.515625 26.8125 \r\nQ 5.515625 40.234375 12.765625 48.109375 \r\nQ 20.015625 56 32.328125 56 \r\nQ 43.359375 56 49.78125 48.890625 \r\nQ 56.203125 41.796875 56.203125 29.59375 \r\nz\r\nM 47.21875 32.234375 \r\nQ 47.125 39.59375 43.09375 43.984375 \r\nQ 39.0625 48.390625 32.421875 48.390625 \r\nQ 24.90625 48.390625 20.390625 44.140625 \r\nQ 15.875 39.890625 15.1875 32.171875 \r\nz\r\n\" id=\"DejaVuSans-101\"/>\r\n      <path d=\"M 9.421875 54.6875 \r\nL 18.40625 54.6875 \r\nL 18.40625 0 \r\nL 9.421875 0 \r\nz\r\nM 9.421875 75.984375 \r\nL 18.40625 75.984375 \r\nL 18.40625 64.59375 \r\nL 9.421875 64.59375 \r\nz\r\n\" id=\"DejaVuSans-105\"/>\r\n      <path d=\"M 45.40625 27.984375 \r\nQ 45.40625 37.75 41.375 43.109375 \r\nQ 37.359375 48.484375 30.078125 48.484375 \r\nQ 22.859375 48.484375 18.828125 43.109375 \r\nQ 14.796875 37.75 14.796875 27.984375 \r\nQ 14.796875 18.265625 18.828125 12.890625 \r\nQ 22.859375 7.515625 30.078125 7.515625 \r\nQ 37.359375 7.515625 41.375 12.890625 \r\nQ 45.40625 18.265625 45.40625 27.984375 \r\nz\r\nM 54.390625 6.78125 \r\nQ 54.390625 -7.171875 48.1875 -13.984375 \r\nQ 42 -20.796875 29.203125 -20.796875 \r\nQ 24.46875 -20.796875 20.265625 -20.09375 \r\nQ 16.0625 -19.390625 12.109375 -17.921875 \r\nL 12.109375 -9.1875 \r\nQ 16.0625 -11.328125 19.921875 -12.34375 \r\nQ 23.78125 -13.375 27.78125 -13.375 \r\nQ 36.625 -13.375 41.015625 -8.765625 \r\nQ 45.40625 -4.15625 45.40625 5.171875 \r\nL 45.40625 9.625 \r\nQ 42.625 4.78125 38.28125 2.390625 \r\nQ 33.9375 0 27.875 0 \r\nQ 17.828125 0 11.671875 7.65625 \r\nQ 5.515625 15.328125 5.515625 27.984375 \r\nQ 5.515625 40.671875 11.671875 48.328125 \r\nQ 17.828125 56 27.875 56 \r\nQ 33.9375 56 38.28125 53.609375 \r\nQ 42.625 51.21875 45.40625 46.390625 \r\nL 45.40625 54.6875 \r\nL 54.390625 54.6875 \r\nz\r\n\" id=\"DejaVuSans-103\"/>\r\n      <path d=\"M 54.890625 33.015625 \r\nL 54.890625 0 \r\nL 45.90625 0 \r\nL 45.90625 32.71875 \r\nQ 45.90625 40.484375 42.875 44.328125 \r\nQ 39.84375 48.1875 33.796875 48.1875 \r\nQ 26.515625 48.1875 22.3125 43.546875 \r\nQ 18.109375 38.921875 18.109375 30.90625 \r\nL 18.109375 0 \r\nL 9.078125 0 \r\nL 9.078125 75.984375 \r\nL 18.109375 75.984375 \r\nL 18.109375 46.1875 \r\nQ 21.34375 51.125 25.703125 53.5625 \r\nQ 30.078125 56 35.796875 56 \r\nQ 45.21875 56 50.046875 50.171875 \r\nQ 54.890625 44.34375 54.890625 33.015625 \r\nz\r\n\" id=\"DejaVuSans-104\"/>\r\n      <path d=\"M 48.6875 27.296875 \r\nQ 48.6875 37.203125 44.609375 42.84375 \r\nQ 40.53125 48.484375 33.40625 48.484375 \r\nQ 26.265625 48.484375 22.1875 42.84375 \r\nQ 18.109375 37.203125 18.109375 27.296875 \r\nQ 18.109375 17.390625 22.1875 11.75 \r\nQ 26.265625 6.109375 33.40625 6.109375 \r\nQ 40.53125 6.109375 44.609375 11.75 \r\nQ 48.6875 17.390625 48.6875 27.296875 \r\nz\r\nM 18.109375 46.390625 \r\nQ 20.953125 51.265625 25.265625 53.625 \r\nQ 29.59375 56 35.59375 56 \r\nQ 45.5625 56 51.78125 48.09375 \r\nQ 58.015625 40.1875 58.015625 27.296875 \r\nQ 58.015625 14.40625 51.78125 6.484375 \r\nQ 45.5625 -1.421875 35.59375 -1.421875 \r\nQ 29.59375 -1.421875 25.265625 0.953125 \r\nQ 20.953125 3.328125 18.109375 8.203125 \r\nL 18.109375 0 \r\nL 9.078125 0 \r\nL 9.078125 75.984375 \r\nL 18.109375 75.984375 \r\nz\r\n\" id=\"DejaVuSans-98\"/>\r\n      <path d=\"M 41.109375 46.296875 \r\nQ 39.59375 47.171875 37.8125 47.578125 \r\nQ 36.03125 48 33.890625 48 \r\nQ 26.265625 48 22.1875 43.046875 \r\nQ 18.109375 38.09375 18.109375 28.8125 \r\nL 18.109375 0 \r\nL 9.078125 0 \r\nL 9.078125 54.6875 \r\nL 18.109375 54.6875 \r\nL 18.109375 46.1875 \r\nQ 20.953125 51.171875 25.484375 53.578125 \r\nQ 30.03125 56 36.53125 56 \r\nQ 37.453125 56 38.578125 55.875 \r\nQ 39.703125 55.765625 41.0625 55.515625 \r\nz\r\n\" id=\"DejaVuSans-114\"/>\r\n      <path d=\"M 44.28125 53.078125 \r\nL 44.28125 44.578125 \r\nQ 40.484375 46.53125 36.375 47.5 \r\nQ 32.28125 48.484375 27.875 48.484375 \r\nQ 21.1875 48.484375 17.84375 46.4375 \r\nQ 14.5 44.390625 14.5 40.28125 \r\nQ 14.5 37.15625 16.890625 35.375 \r\nQ 19.28125 33.59375 26.515625 31.984375 \r\nL 29.59375 31.296875 \r\nQ 39.15625 29.25 43.1875 25.515625 \r\nQ 47.21875 21.78125 47.21875 15.09375 \r\nQ 47.21875 7.46875 41.1875 3.015625 \r\nQ 35.15625 -1.421875 24.609375 -1.421875 \r\nQ 20.21875 -1.421875 15.453125 -0.5625 \r\nQ 10.6875 0.296875 5.421875 2 \r\nL 5.421875 11.28125 \r\nQ 10.40625 8.6875 15.234375 7.390625 \r\nQ 20.0625 6.109375 24.8125 6.109375 \r\nQ 31.15625 6.109375 34.5625 8.28125 \r\nQ 37.984375 10.453125 37.984375 14.40625 \r\nQ 37.984375 18.0625 35.515625 20.015625 \r\nQ 33.0625 21.96875 24.703125 23.78125 \r\nL 21.578125 24.515625 \r\nQ 13.234375 26.265625 9.515625 29.90625 \r\nQ 5.8125 33.546875 5.8125 39.890625 \r\nQ 5.8125 47.609375 11.28125 51.796875 \r\nQ 16.75 56 26.8125 56 \r\nQ 31.78125 56 36.171875 55.265625 \r\nQ 40.578125 54.546875 44.28125 53.078125 \r\nz\r\n\" id=\"DejaVuSans-115\"/>\r\n     </defs>\r\n     <g transform=\"translate(87.14375 23.798437)scale(0.1 -0.1)\">\r\n      <use xlink:href=\"#DejaVuSans-67\"/>\r\n      <use x=\"69.824219\" xlink:href=\"#DejaVuSans-111\"/>\r\n      <use x=\"131.005859\" xlink:href=\"#DejaVuSans-109\"/>\r\n      <use x=\"228.417969\" xlink:href=\"#DejaVuSans-109\"/>\r\n      <use x=\"325.830078\" xlink:href=\"#DejaVuSans-111\"/>\r\n      <use x=\"387.011719\" xlink:href=\"#DejaVuSans-110\"/>\r\n      <use x=\"450.390625\" xlink:href=\"#DejaVuSans-32\"/>\r\n      <use x=\"482.177734\" xlink:href=\"#DejaVuSans-78\"/>\r\n      <use x=\"556.982422\" xlink:href=\"#DejaVuSans-101\"/>\r\n      <use x=\"618.505859\" xlink:href=\"#DejaVuSans-105\"/>\r\n      <use x=\"646.289062\" xlink:href=\"#DejaVuSans-103\"/>\r\n      <use x=\"709.765625\" xlink:href=\"#DejaVuSans-104\"/>\r\n      <use x=\"773.144531\" xlink:href=\"#DejaVuSans-98\"/>\r\n      <use x=\"836.621094\" xlink:href=\"#DejaVuSans-111\"/>\r\n      <use x=\"897.802734\" xlink:href=\"#DejaVuSans-114\"/>\r\n      <use x=\"938.916016\" xlink:href=\"#DejaVuSans-115\"/>\r\n     </g>\r\n    </g>\r\n    <g id=\"line2d_22\">\r\n     <path d=\"M 59.14375 34.976562 \r\nL 79.14375 34.976562 \r\n\" style=\"fill:none;stroke:#ff7f0e;stroke-linecap:square;stroke-width:1.5;\"/>\r\n    </g>\r\n    <g id=\"line2d_23\"/>\r\n    <g id=\"text_20\">\r\n     <!-- Adamic Adar -->\r\n     <defs>\r\n      <path d=\"M 34.1875 63.1875 \r\nL 20.796875 26.90625 \r\nL 47.609375 26.90625 \r\nz\r\nM 28.609375 72.90625 \r\nL 39.796875 72.90625 \r\nL 67.578125 0 \r\nL 57.328125 0 \r\nL 50.6875 18.703125 \r\nL 17.828125 18.703125 \r\nL 11.1875 0 \r\nL 0.78125 0 \r\nz\r\n\" id=\"DejaVuSans-65\"/>\r\n      <path d=\"M 45.40625 46.390625 \r\nL 45.40625 75.984375 \r\nL 54.390625 75.984375 \r\nL 54.390625 0 \r\nL 45.40625 0 \r\nL 45.40625 8.203125 \r\nQ 42.578125 3.328125 38.25 0.953125 \r\nQ 33.9375 -1.421875 27.875 -1.421875 \r\nQ 17.96875 -1.421875 11.734375 6.484375 \r\nQ 5.515625 14.40625 5.515625 27.296875 \r\nQ 5.515625 40.1875 11.734375 48.09375 \r\nQ 17.96875 56 27.875 56 \r\nQ 33.9375 56 38.25 53.625 \r\nQ 42.578125 51.265625 45.40625 46.390625 \r\nz\r\nM 14.796875 27.296875 \r\nQ 14.796875 17.390625 18.875 11.75 \r\nQ 22.953125 6.109375 30.078125 6.109375 \r\nQ 37.203125 6.109375 41.296875 11.75 \r\nQ 45.40625 17.390625 45.40625 27.296875 \r\nQ 45.40625 37.203125 41.296875 42.84375 \r\nQ 37.203125 48.484375 30.078125 48.484375 \r\nQ 22.953125 48.484375 18.875 42.84375 \r\nQ 14.796875 37.203125 14.796875 27.296875 \r\nz\r\n\" id=\"DejaVuSans-100\"/>\r\n      <path d=\"M 34.28125 27.484375 \r\nQ 23.390625 27.484375 19.1875 25 \r\nQ 14.984375 22.515625 14.984375 16.5 \r\nQ 14.984375 11.71875 18.140625 8.90625 \r\nQ 21.296875 6.109375 26.703125 6.109375 \r\nQ 34.1875 6.109375 38.703125 11.40625 \r\nQ 43.21875 16.703125 43.21875 25.484375 \r\nL 43.21875 27.484375 \r\nz\r\nM 52.203125 31.203125 \r\nL 52.203125 0 \r\nL 43.21875 0 \r\nL 43.21875 8.296875 \r\nQ 40.140625 3.328125 35.546875 0.953125 \r\nQ 30.953125 -1.421875 24.3125 -1.421875 \r\nQ 15.921875 -1.421875 10.953125 3.296875 \r\nQ 6 8.015625 6 15.921875 \r\nQ 6 25.140625 12.171875 29.828125 \r\nQ 18.359375 34.515625 30.609375 34.515625 \r\nL 43.21875 34.515625 \r\nL 43.21875 35.40625 \r\nQ 43.21875 41.609375 39.140625 45 \r\nQ 35.0625 48.390625 27.6875 48.390625 \r\nQ 23 48.390625 18.546875 47.265625 \r\nQ 14.109375 46.140625 10.015625 43.890625 \r\nL 10.015625 52.203125 \r\nQ 14.9375 54.109375 19.578125 55.046875 \r\nQ 24.21875 56 28.609375 56 \r\nQ 40.484375 56 46.34375 49.84375 \r\nQ 52.203125 43.703125 52.203125 31.203125 \r\nz\r\n\" id=\"DejaVuSans-97\"/>\r\n      <path d=\"M 48.78125 52.59375 \r\nL 48.78125 44.1875 \r\nQ 44.96875 46.296875 41.140625 47.34375 \r\nQ 37.3125 48.390625 33.40625 48.390625 \r\nQ 24.65625 48.390625 19.8125 42.84375 \r\nQ 14.984375 37.3125 14.984375 27.296875 \r\nQ 14.984375 17.28125 19.8125 11.734375 \r\nQ 24.65625 6.203125 33.40625 6.203125 \r\nQ 37.3125 6.203125 41.140625 7.25 \r\nQ 44.96875 8.296875 48.78125 10.40625 \r\nL 48.78125 2.09375 \r\nQ 45.015625 0.34375 40.984375 -0.53125 \r\nQ 36.96875 -1.421875 32.421875 -1.421875 \r\nQ 20.0625 -1.421875 12.78125 6.34375 \r\nQ 5.515625 14.109375 5.515625 27.296875 \r\nQ 5.515625 40.671875 12.859375 48.328125 \r\nQ 20.21875 56 33.015625 56 \r\nQ 37.15625 56 41.109375 55.140625 \r\nQ 45.0625 54.296875 48.78125 52.59375 \r\nz\r\n\" id=\"DejaVuSans-99\"/>\r\n     </defs>\r\n     <g transform=\"translate(87.14375 38.476562)scale(0.1 -0.1)\">\r\n      <use xlink:href=\"#DejaVuSans-65\"/>\r\n      <use x=\"68.392578\" xlink:href=\"#DejaVuSans-100\"/>\r\n      <use x=\"131.869141\" xlink:href=\"#DejaVuSans-97\"/>\r\n      <use x=\"193.148438\" xlink:href=\"#DejaVuSans-109\"/>\r\n      <use x=\"290.560547\" xlink:href=\"#DejaVuSans-105\"/>\r\n      <use x=\"318.34375\" xlink:href=\"#DejaVuSans-99\"/>\r\n      <use x=\"373.324219\" xlink:href=\"#DejaVuSans-32\"/>\r\n      <use x=\"405.111328\" xlink:href=\"#DejaVuSans-65\"/>\r\n      <use x=\"473.503906\" xlink:href=\"#DejaVuSans-100\"/>\r\n      <use x=\"536.980469\" xlink:href=\"#DejaVuSans-97\"/>\r\n      <use x=\"598.259766\" xlink:href=\"#DejaVuSans-114\"/>\r\n     </g>\r\n    </g>\r\n    <g id=\"line2d_24\">\r\n     <path d=\"M 59.14375 49.654687 \r\nL 79.14375 49.654687 \r\n\" style=\"fill:none;stroke:#2ca02c;stroke-linecap:square;stroke-width:1.5;\"/>\r\n    </g>\r\n    <g id=\"line2d_25\"/>\r\n    <g id=\"text_21\">\r\n     <!-- Jaccard -->\r\n     <defs>\r\n      <path d=\"M 9.8125 72.90625 \r\nL 19.671875 72.90625 \r\nL 19.671875 5.078125 \r\nQ 19.671875 -8.109375 14.671875 -14.0625 \r\nQ 9.671875 -20.015625 -1.421875 -20.015625 \r\nL -5.171875 -20.015625 \r\nL -5.171875 -11.71875 \r\nL -2.09375 -11.71875 \r\nQ 4.4375 -11.71875 7.125 -8.046875 \r\nQ 9.8125 -4.390625 9.8125 5.078125 \r\nz\r\n\" id=\"DejaVuSans-74\"/>\r\n     </defs>\r\n     <g transform=\"translate(87.14375 53.154687)scale(0.1 -0.1)\">\r\n      <use xlink:href=\"#DejaVuSans-74\"/>\r\n      <use x=\"29.492188\" xlink:href=\"#DejaVuSans-97\"/>\r\n      <use x=\"90.771484\" xlink:href=\"#DejaVuSans-99\"/>\r\n      <use x=\"145.751953\" xlink:href=\"#DejaVuSans-99\"/>\r\n      <use x=\"200.732422\" xlink:href=\"#DejaVuSans-97\"/>\r\n      <use x=\"262.011719\" xlink:href=\"#DejaVuSans-114\"/>\r\n      <use x=\"303.109375\" xlink:href=\"#DejaVuSans-100\"/>\r\n     </g>\r\n    </g>\r\n   </g>\r\n  </g>\r\n </g>\r\n <defs>\r\n  <clipPath id=\"p8cf698052f\">\r\n   <rect height=\"217.44\" width=\"334.8\" x=\"50.14375\" y=\"7.2\"/>\r\n  </clipPath>\r\n </defs>\r\n</svg>\r\n",
      "image/png": "[encoded data removed]"
     },
     "metadata": {
      "needs_background": "light"
     }
    }
   ],
   "source": [
    "plt.plot(cn_evaluation.fallout(), cn_evaluation.recall(), label=\"Common Neighbors\")\n",
    "plt.plot(aa_evaluation.fallout(), aa_evaluation.recall(), label=\"Adamic Adar\")\n",
    "plt.plot(jc_evaluation.fallout(), jc_evaluation.recall(), label=\"Jaccard\")\n",
    "plt.ylabel(\"TPR\")\n",
    "plt.xlabel(\"FPR\")\n",
    "plt.legend()\n",
    "plt.show()"
   ]
  },
  {
   "cell_type": "markdown",
   "metadata": {},
   "source": [
    "A simple way to summarize the results offered by the ROC curve is through its AUC"
   ]
  },
  {
   "cell_type": "code",
   "execution_count": 15,
   "metadata": {},
   "outputs": [
    {
     "output_type": "stream",
     "name": "stdout",
     "text": [
      "Area Under Roc Curve (AUROC)\nCommon Neigh.: \t 0.026832485313825823\nAdamic Adar: \t 0.02725982481278175\nJaccard: \t 0.018894838921578106\n"
     ]
    }
   ],
   "source": [
    "from sklearn.metrics import auc\n",
    "\n",
    "print(\"Area Under Roc Curve (AUROC)\")\n",
    "print(f\"Common Neigh.: \\t {auc(cn_evaluation.fallout(), cn_evaluation.recall())}\")\n",
    "print(f\"Adamic Adar: \\t {auc(aa_evaluation.fallout(), aa_evaluation.recall())}\")\n",
    "print(f\"Jaccard: \\t {auc(jc_evaluation.fallout(), jc_evaluation.recall())}\")"
   ]
  },
  {
   "cell_type": "markdown",
   "metadata": {},
   "source": [
    "<a id=\"conclusion\"></a>\n",
    "## 3. Conclusions ([to top](#top))\n",
    "\n",
    "In this notebook we introduced the basic facilities offered by ``linkpred``.\n",
    "\n",
    "For any issue, suggestion, bug report refer the official [GitHub repository](https://github.com/rafguns/linkpred) of the project."
   ]
  }
 ],
 "metadata": {
  "kernelspec": {
   "display_name": "Python 3",
   "language": "python",
   "name": "python3"
  },
  "language_info": {
   "codemirror_mode": {
    "name": "ipython",
    "version": 3
   },
   "file_extension": ".py",
   "mimetype": "text/x-python",
   "name": "python",
   "nbconvert_exporter": "python",
   "pygments_lexer": "ipython3",
   "version": "3.6.5-final"
  }
 },
 "nbformat": 4,
 "nbformat_minor": 4
}